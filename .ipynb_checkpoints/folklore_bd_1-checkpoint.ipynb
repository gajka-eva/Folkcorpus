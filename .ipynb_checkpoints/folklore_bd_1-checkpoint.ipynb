{
 "cells": [
  {
   "cell_type": "code",
   "execution_count": 1,
   "id": "344d0f13",
   "metadata": {},
   "outputs": [
    {
     "name": "stdout",
     "output_type": "stream",
     "text": [
      "Requirement already satisfied: pymongo in c:\\users\\elvav\\anaconda3\\lib\\site-packages (4.6.0)\n",
      "Requirement already satisfied: dnspython<3.0.0,>=1.16.0 in c:\\users\\elvav\\anaconda3\\lib\\site-packages (from pymongo) (2.4.2)\n",
      "Requirement already satisfied: razdel in c:\\users\\elvav\\anaconda3\\lib\\site-packages (0.5.0)\n",
      "Requirement already satisfied: pymorphy2 in c:\\users\\elvav\\anaconda3\\lib\\site-packages (0.9.1)\n",
      "Requirement already satisfied: dawg-python>=0.7.1 in c:\\users\\elvav\\anaconda3\\lib\\site-packages (from pymorphy2) (0.7.2)\n",
      "Requirement already satisfied: pymorphy2-dicts-ru<3.0,>=2.4 in c:\\users\\elvav\\anaconda3\\lib\\site-packages (from pymorphy2) (2.4.417127.4579844)\n",
      "Requirement already satisfied: docopt>=0.6 in c:\\users\\elvav\\anaconda3\\lib\\site-packages (from pymorphy2) (0.6.2)\n",
      "Requirement already satisfied: slovnet in c:\\users\\elvav\\anaconda3\\lib\\site-packages (0.6.0)\n",
      "Requirement already satisfied: numpy in c:\\users\\elvav\\anaconda3\\lib\\site-packages (from slovnet) (1.24.3)\n",
      "Requirement already satisfied: razdel in c:\\users\\elvav\\anaconda3\\lib\\site-packages (from slovnet) (0.5.0)\n",
      "Requirement already satisfied: navec in c:\\users\\elvav\\anaconda3\\lib\\site-packages (from slovnet) (0.10.0)\n",
      "Requirement already satisfied: geopy in c:\\users\\elvav\\anaconda3\\lib\\site-packages (2.4.0)\n",
      "Requirement already satisfied: geographiclib<3,>=1.52 in c:\\users\\elvav\\anaconda3\\lib\\site-packages (from geopy) (2.0)\n",
      "Requirement already satisfied: geolocator in c:\\users\\elvav\\anaconda3\\lib\\site-packages (0.1.1)\n"
     ]
    }
   ],
   "source": [
    "!pip install pymongo\n",
    "!pip install razdel\n",
    "!pip install pymorphy2\n",
    "!pip install slovnet\n",
    "!pip install geopy\n",
    "!pip install geolocator"
   ]
  },
  {
   "cell_type": "code",
   "execution_count": 2,
   "id": "4850d8ce",
   "metadata": {},
   "outputs": [
    {
     "ename": "AttributeError",
     "evalue": "module 'inspect' has no attribute 'getargspec'",
     "output_type": "error",
     "traceback": [
      "\u001b[1;31m---------------------------------------------------------------------------\u001b[0m",
      "\u001b[1;31mAttributeError\u001b[0m                            Traceback (most recent call last)",
      "Cell \u001b[1;32mIn[2], line 7\u001b[0m\n\u001b[0;32m      5\u001b[0m \u001b[38;5;28;01mfrom\u001b[39;00m \u001b[38;5;21;01mrazdel\u001b[39;00m \u001b[38;5;28;01mimport\u001b[39;00m sentenize\n\u001b[0;32m      6\u001b[0m \u001b[38;5;28;01mimport\u001b[39;00m \u001b[38;5;21;01mpymorphy2\u001b[39;00m\n\u001b[1;32m----> 7\u001b[0m morph \u001b[38;5;241m=\u001b[39m pymorphy2\u001b[38;5;241m.\u001b[39mMorphAnalyzer()\n\u001b[0;32m      8\u001b[0m \u001b[38;5;28;01mimport\u001b[39;00m \u001b[38;5;21;01mos\u001b[39;00m\n\u001b[0;32m      9\u001b[0m \u001b[38;5;28;01mfrom\u001b[39;00m \u001b[38;5;21;01mbson\u001b[39;00m \u001b[38;5;28;01mimport\u001b[39;00m ObjectId\n",
      "File \u001b[1;32m~\\anaconda3\\Lib\\site-packages\\pymorphy2\\analyzer.py:224\u001b[0m, in \u001b[0;36mMorphAnalyzer.__init__\u001b[1;34m(self, path, lang, result_type, units, probability_estimator_cls, char_substitutes)\u001b[0m\n\u001b[0;32m    222\u001b[0m \u001b[38;5;28mself\u001b[39m\u001b[38;5;241m.\u001b[39m_result_type_orig \u001b[38;5;241m=\u001b[39m result_type\n\u001b[0;32m    223\u001b[0m \u001b[38;5;28mself\u001b[39m\u001b[38;5;241m.\u001b[39m_init_char_substitutes(char_substitutes)\n\u001b[1;32m--> 224\u001b[0m \u001b[38;5;28mself\u001b[39m\u001b[38;5;241m.\u001b[39m_init_units(units)\n",
      "File \u001b[1;32m~\\anaconda3\\Lib\\site-packages\\pymorphy2\\analyzer.py:235\u001b[0m, in \u001b[0;36mMorphAnalyzer._init_units\u001b[1;34m(self, units_unbound)\u001b[0m\n\u001b[0;32m    233\u001b[0m \u001b[38;5;28;01mif\u001b[39;00m \u001b[38;5;28misinstance\u001b[39m(item, (\u001b[38;5;28mlist\u001b[39m, \u001b[38;5;28mtuple\u001b[39m)):\n\u001b[0;32m    234\u001b[0m     \u001b[38;5;28;01mfor\u001b[39;00m unit \u001b[38;5;129;01min\u001b[39;00m item[:\u001b[38;5;241m-\u001b[39m\u001b[38;5;241m1\u001b[39m]:\n\u001b[1;32m--> 235\u001b[0m         \u001b[38;5;28mself\u001b[39m\u001b[38;5;241m.\u001b[39m_units\u001b[38;5;241m.\u001b[39mappend((\u001b[38;5;28mself\u001b[39m\u001b[38;5;241m.\u001b[39m_bound_unit(unit), \u001b[38;5;28;01mFalse\u001b[39;00m))\n\u001b[0;32m    236\u001b[0m     \u001b[38;5;28mself\u001b[39m\u001b[38;5;241m.\u001b[39m_units\u001b[38;5;241m.\u001b[39mappend((\u001b[38;5;28mself\u001b[39m\u001b[38;5;241m.\u001b[39m_bound_unit(item[\u001b[38;5;241m-\u001b[39m\u001b[38;5;241m1\u001b[39m]), \u001b[38;5;28;01mTrue\u001b[39;00m))\n\u001b[0;32m    237\u001b[0m \u001b[38;5;28;01melse\u001b[39;00m:\n",
      "File \u001b[1;32m~\\anaconda3\\Lib\\site-packages\\pymorphy2\\analyzer.py:246\u001b[0m, in \u001b[0;36mMorphAnalyzer._bound_unit\u001b[1;34m(self, unit)\u001b[0m\n\u001b[0;32m    245\u001b[0m \u001b[38;5;28;01mdef\u001b[39;00m \u001b[38;5;21m_bound_unit\u001b[39m(\u001b[38;5;28mself\u001b[39m, unit):\n\u001b[1;32m--> 246\u001b[0m     unit \u001b[38;5;241m=\u001b[39m unit\u001b[38;5;241m.\u001b[39mclone()\n\u001b[0;32m    247\u001b[0m     unit\u001b[38;5;241m.\u001b[39minit(\u001b[38;5;28mself\u001b[39m)\n\u001b[0;32m    248\u001b[0m     \u001b[38;5;28;01mreturn\u001b[39;00m unit\n",
      "File \u001b[1;32m~\\anaconda3\\Lib\\site-packages\\pymorphy2\\units\\base.py:35\u001b[0m, in \u001b[0;36mBaseAnalyzerUnit.clone\u001b[1;34m(self)\u001b[0m\n\u001b[0;32m     34\u001b[0m \u001b[38;5;28;01mdef\u001b[39;00m \u001b[38;5;21mclone\u001b[39m(\u001b[38;5;28mself\u001b[39m):\n\u001b[1;32m---> 35\u001b[0m     \u001b[38;5;28;01mreturn\u001b[39;00m \u001b[38;5;28mself\u001b[39m\u001b[38;5;241m.\u001b[39m\u001b[38;5;18m__class__\u001b[39m(\u001b[38;5;241m*\u001b[39m\u001b[38;5;241m*\u001b[39m\u001b[38;5;28mself\u001b[39m\u001b[38;5;241m.\u001b[39m_get_params())\n",
      "File \u001b[1;32m~\\anaconda3\\Lib\\site-packages\\pymorphy2\\units\\base.py:76\u001b[0m, in \u001b[0;36mBaseAnalyzerUnit._get_params\u001b[1;34m(self)\u001b[0m\n\u001b[0;32m     73\u001b[0m \u001b[38;5;28;01mdef\u001b[39;00m \u001b[38;5;21m_get_params\u001b[39m(\u001b[38;5;28mself\u001b[39m):\n\u001b[0;32m     74\u001b[0m \u001b[38;5;250m    \u001b[39m\u001b[38;5;124;03m\"\"\" Return a dict with the parameters for this analyzer unit. \"\"\"\u001b[39;00m\n\u001b[0;32m     75\u001b[0m     \u001b[38;5;28;01mreturn\u001b[39;00m \u001b[38;5;28mdict\u001b[39m(\n\u001b[1;32m---> 76\u001b[0m         (key, \u001b[38;5;28mgetattr\u001b[39m(\u001b[38;5;28mself\u001b[39m, key, \u001b[38;5;28;01mNone\u001b[39;00m)) \u001b[38;5;28;01mfor\u001b[39;00m key \u001b[38;5;129;01min\u001b[39;00m \u001b[38;5;28mself\u001b[39m\u001b[38;5;241m.\u001b[39m_get_param_names()\n\u001b[0;32m     77\u001b[0m     )\n",
      "File \u001b[1;32m~\\anaconda3\\Lib\\site-packages\\pymorphy2\\units\\base.py:70\u001b[0m, in \u001b[0;36mBaseAnalyzerUnit._get_param_names\u001b[1;34m(cls)\u001b[0m\n\u001b[0;32m     68\u001b[0m \u001b[38;5;28;01mif\u001b[39;00m \u001b[38;5;28mcls\u001b[39m\u001b[38;5;241m.\u001b[39m\u001b[38;5;21m__init__\u001b[39m \u001b[38;5;129;01mis\u001b[39;00m \u001b[38;5;28mobject\u001b[39m\u001b[38;5;241m.\u001b[39m\u001b[38;5;21m__init__\u001b[39m:\n\u001b[0;32m     69\u001b[0m     \u001b[38;5;28;01mreturn\u001b[39;00m []\n\u001b[1;32m---> 70\u001b[0m args, varargs, kw, default \u001b[38;5;241m=\u001b[39m inspect\u001b[38;5;241m.\u001b[39mgetargspec(\u001b[38;5;28mcls\u001b[39m\u001b[38;5;241m.\u001b[39m\u001b[38;5;21m__init__\u001b[39m)\n\u001b[0;32m     71\u001b[0m \u001b[38;5;28;01mreturn\u001b[39;00m \u001b[38;5;28msorted\u001b[39m(args[\u001b[38;5;241m1\u001b[39m:])\n",
      "\u001b[1;31mAttributeError\u001b[0m: module 'inspect' has no attribute 'getargspec'"
     ]
    }
   ],
   "source": [
    "from bs4 import BeautifulSoup\n",
    "import pymongo\n",
    "import pandas as pd\n",
    "from razdel import tokenize\n",
    "from razdel import sentenize\n",
    "import pymorphy2\n",
    "morph = pymorphy2.MorphAnalyzer()\n",
    "import os\n",
    "from bson import ObjectId\n",
    "from navec import Navec\n",
    "from slovnet import NER\n",
    "from geopy.geocoders import Nominatim\n",
    "geolocator = Nominatim(user_agent=\"k\")\n",
    "ner = NER.load('slovnet_ner_news_v1.tar')\n",
    "navec = Navec.load('navec_news_v1_1B_250K_300d_100q.tar')\n",
    "ner.navec(navec)"
   ]
  },
  {
   "cell_type": "code",
   "execution_count": 108,
   "id": "82616612",
   "metadata": {},
   "outputs": [
    {
     "name": "stdout",
     "output_type": "stream",
     "text": [
      "Database(MongoClient(host=['localhost:27017'], document_class=dict, tz_aware=False, connect=True, unicode_decode_error_handler='ignore'), 'test_database')\n"
     ]
    }
   ],
   "source": [
    "client = pymongo.MongoClient('localhost', 27017, unicode_decode_error_handler='ignore')\n",
    "db = client['mongo_for_folklore']\n",
    "text_collection = db.texts # инфа о самом тексте\n",
    "lemmas = db.lemmas # инфа о лемме и токене\n",
    "dictionary = db.dictionary\n",
    "plots = db.plots # доп разметка\n",
    "print(client.test_database)"
   ]
  },
  {
   "cell_type": "code",
   "execution_count": 126,
   "id": "1cb9def8",
   "metadata": {},
   "outputs": [
    {
     "data": {
      "text/plain": [
       "'iniForm_1_POS_1'"
      ]
     },
     "execution_count": 126,
     "metadata": {},
     "output_type": "execute_result"
    }
   ],
   "source": [
    "lemmas.create_index([('iniForm', pymongo.ASCENDING), ('POS', pymongo.ASCENDING)], unique=True)\n",
    "dictionary.create_index([('token', pymongo.ASCENDING), ('iniForm', pymongo.ASCENDING), ('tags', pymongo.ASCENDING)], unique=True)"
   ]
  },
  {
   "cell_type": "code",
   "execution_count": 154,
   "id": "7c07cfce",
   "metadata": {},
   "outputs": [],
   "source": [
    "# lemmas.drop_index('iniForm_1_tags_1_forms')\n",
    "# for x in lemmas.list_indexes():\n",
    "#     print(x)\n",
    "\n",
    "\n",
    "# запустить, если ошибка с дублированием в базе данных. удаляет все индексы, потом их надо переустановить\n",
    "# lemmas.drop_indexes() "
   ]
  },
  {
   "cell_type": "code",
   "execution_count": 129,
   "id": "b2d7fb50",
   "metadata": {},
   "outputs": [],
   "source": [
    "def putFolkloreData(file_name):\n",
    "\n",
    "    file_name = file_name.replace('.txt', '')\n",
    "\n",
    "    try:\n",
    "        data = data_file.loc[file_name.replace('~', ' ')]\n",
    "        doc = {'doc_text': data['Text'],\n",
    "               'genre': data['Genre'],\n",
    "               'info': data['Info'],\n",
    "               'comment': data['Comment'],\n",
    "               'collector': data['Collector'],\n",
    "               'typewriter': data['Typewriter']}\n",
    "        indx_doc = text_collection.insert_one(doc).inserted_id\n",
    "\n",
    "\n",
    "        suj_annotation = []\n",
    "        path = 'data/annotation/' + file_name + '.txt/demo.xml'\n",
    "        with open(path, 'r', encoding='utf-8') as f:\n",
    "            xml_doc = f.read()\n",
    "        soup = BeautifulSoup(xml_doc, 'xml')\n",
    "        for pers_span in soup.Document.find_all('custom.Span'):  # ищет сюжеты\n",
    "            suj_annotation.append({'text': pers_span.text.replace('\\n', ' '), \n",
    "                                   'hero_ind': pers_span['label_ind'],\n",
    "                                   'hero_type': pers_span['label'], \n",
    "                                  'id_doc': indx_doc})\n",
    "        for suj_span in soup.Document.find_all('webanno.custom.Sujet'):\n",
    "            suj_annotation.append({'text': suj_span.text.replace('\\n', ' '), \n",
    "                                   'label' : suj_span['type_s'], \n",
    "                                   'end' : int(suj_span['end']), \n",
    "                                   'begin' : int(suj_span['begin']), \n",
    "                                  'id_doc': indx_doc})\n",
    "        if suj_annotation != []:\n",
    "            indx_plot = plots.insert_many(suj_annotation).inserted_ids\n",
    "\n",
    "\n",
    "        sentences = list(sentenize(doc['doc_text']))\n",
    "        for sent in [_.text for _ in sentences]:\n",
    "            for token in [_.text for _ in tokenize(sent)]:\n",
    "\n",
    "                word_parsed = morph.parse(token)[0]\n",
    "                norm_f = word_parsed.normal_form\n",
    "                tags = word_parsed.tag\n",
    "                if lemmas.count_documents({\"iniForm\": norm_f, \"POS\": tags.POS}) == 0:\n",
    "#                     , \"forms\":[{'token' : token, 'tags' : str(tags)}]\n",
    "                    lemma_id = lemmas.insert_one({\"iniForm\": norm_f, \"POS\": tags.POS, \"freq\": 1,  \"docs\": [indx_doc]}).inserted_id\n",
    "                else:\n",
    "                    inis = lemmas.find({\"iniForm\": norm_f, \"POS\": tags.POS})\n",
    "                    lemma_id = inis[0][\"_id\"]\n",
    "                    lemmas.find_one_and_update({\"_id\": lemma_id},\n",
    "                                               {\"$inc\": {\"freq\": 1},\n",
    "                                                \"$addToSet\": {\"docs\": indx_doc}})\n",
    "#                     if lemmas.count_documents({'forms.token' : token, 'forms.tags' : str(tags), \"POS\": tags.POS}) == 0:\n",
    "#                         lemmas.find_one_and_update({\"_id\": lemma_id},\n",
    "#                                                    { \"$addToSet\": {\"forms\": {'token' : token, 'tags' : str(tags)}}})\n",
    "                \n",
    "#                #для токенов\n",
    "                if dictionary.count_documents({\"token\":token, \"iniForm\": norm_f, \"tags\": str(tags)}) == 0:\n",
    "                    wf_id = dictionary.insert_one({\"token\":token, \n",
    "                                                   \"iniForm\": norm_f, \n",
    "                                                   \"tags\": str(tags), \n",
    "                                                   \"freq\": 1, \n",
    "                                                   \"docs\": [indx_doc]}).inserted_id\n",
    "                else:\n",
    "                    wrdf = dictionary.find({\"token\":token, \"iniForm\": norm_f, \"tags\": str(tags)})\n",
    "                    wf_id=wrdf[0][\"_id\"]\n",
    "                    dictionary.find_one_and_update({\"_id\": wf_id}, {\"$inc\":  {\"freq\": 1}}) \n",
    "                    dictionary.find_one_and_update({\"_id\": wf_id}, {\"$addToSet\": {\"docs\": indx_doc}}) \n",
    "\n",
    "\n",
    "    \n",
    "    except KeyError:\n",
    "        print('Failed to get file: ', )"
   ]
  },
  {
   "cell_type": "code",
   "execution_count": 133,
   "id": "80a1c775",
   "metadata": {},
   "outputs": [
    {
     "data": {
      "text/html": [
       "<div>\n",
       "<style scoped>\n",
       "    .dataframe tbody tr th:only-of-type {\n",
       "        vertical-align: middle;\n",
       "    }\n",
       "\n",
       "    .dataframe tbody tr th {\n",
       "        vertical-align: top;\n",
       "    }\n",
       "\n",
       "    .dataframe thead th {\n",
       "        text-align: right;\n",
       "    }\n",
       "</style>\n",
       "<table border=\"1\" class=\"dataframe\">\n",
       "  <thead>\n",
       "    <tr style=\"text-align: right;\">\n",
       "      <th></th>\n",
       "      <th>Пословицы и поговорки.</th>\n",
       "      <th>Number</th>\n",
       "      <th>Genre</th>\n",
       "      <th>Info</th>\n",
       "      <th>Comment</th>\n",
       "      <th>Text</th>\n",
       "      <th>Collector</th>\n",
       "      <th>Typewriter</th>\n",
       "      <th>RawText</th>\n",
       "      <th>empty_text</th>\n",
       "      <th>перезалить</th>\n",
       "      <th>Unnamed: 12</th>\n",
       "    </tr>\n",
       "    <tr>\n",
       "      <th>Filename</th>\n",
       "      <th></th>\n",
       "      <th></th>\n",
       "      <th></th>\n",
       "      <th></th>\n",
       "      <th></th>\n",
       "      <th></th>\n",
       "      <th></th>\n",
       "      <th></th>\n",
       "      <th></th>\n",
       "      <th></th>\n",
       "      <th></th>\n",
       "      <th></th>\n",
       "    </tr>\n",
       "  </thead>\n",
       "  <tbody>\n",
       "    <tr>\n",
       "      <th>фольклорный архив-3 100. Частушка. С горки на горку...</th>\n",
       "      <td>0.0</td>\n",
       "      <td>100</td>\n",
       "      <td>Частушка</td>\n",
       "      <td>Кирпичникова Клавдия Федоровна\\nИркутская обла...</td>\n",
       "      <td></td>\n",
       "      <td>С горки на горку,\\nЕще на камешок\\nСкорее пода...</td>\n",
       "      <td>Тубол Л. 1 группа. 1980 г</td>\n",
       "      <td>Рыбинская Дарья.</td>\n",
       "      <td>С горки на горку,\\nЕще на камешок\\nСкорее пода...</td>\n",
       "      <td>FALSE</td>\n",
       "      <td></td>\n",
       "      <td></td>\n",
       "    </tr>\n",
       "  </tbody>\n",
       "</table>\n",
       "</div>"
      ],
      "text/plain": [
       "                                                   Пословицы и поговорки.  \\\n",
       "Filename                                                                    \n",
       "фольклорный архив-3 100. Частушка. С горки на г...                    0.0   \n",
       "\n",
       "                                                   Number     Genre  \\\n",
       "Filename                                                              \n",
       "фольклорный архив-3 100. Частушка. С горки на г...    100  Частушка   \n",
       "\n",
       "                                                                                                 Info  \\\n",
       "Filename                                                                                                \n",
       "фольклорный архив-3 100. Частушка. С горки на г...  Кирпичникова Клавдия Федоровна\\nИркутская обла...   \n",
       "\n",
       "                                                   Comment  \\\n",
       "Filename                                                     \n",
       "фольклорный архив-3 100. Частушка. С горки на г...           \n",
       "\n",
       "                                                                                                 Text  \\\n",
       "Filename                                                                                                \n",
       "фольклорный архив-3 100. Частушка. С горки на г...  С горки на горку,\\nЕще на камешок\\nСкорее пода...   \n",
       "\n",
       "                                                                    Collector  \\\n",
       "Filename                                                                        \n",
       "фольклорный архив-3 100. Частушка. С горки на г...  Тубол Л. 1 группа. 1980 г   \n",
       "\n",
       "                                                          Typewriter  \\\n",
       "Filename                                                               \n",
       "фольклорный архив-3 100. Частушка. С горки на г...  Рыбинская Дарья.   \n",
       "\n",
       "                                                                                              RawText  \\\n",
       "Filename                                                                                                \n",
       "фольклорный архив-3 100. Частушка. С горки на г...  С горки на горку,\\nЕще на камешок\\nСкорее пода...   \n",
       "\n",
       "                                                   empty_text перезалить  \\\n",
       "Filename                                                                   \n",
       "фольклорный архив-3 100. Частушка. С горки на г...      FALSE              \n",
       "\n",
       "                                                   Unnamed: 12  \n",
       "Filename                                                        \n",
       "фольклорный архив-3 100. Частушка. С горки на г...              "
      ]
     },
     "execution_count": 133,
     "metadata": {},
     "output_type": "execute_result"
    }
   ],
   "source": [
    "def de(text):\n",
    "    return text.replace('~', ' ').replace('.docx', '').replace('.txt', '')\n",
    "\n",
    "\n",
    "data_file = pd.read_csv('corpus_UPD - corpus_UPD.csv',  encoding = 'utf-8') #index_col='Filename',\n",
    "\n",
    "data_file['Filename'] = data_file['Filename'].apply(de)\n",
    "data_file = data_file.set_index('Filename')\n",
    "data_file.fillna('').head(1)"
   ]
  },
  {
   "cell_type": "code",
   "execution_count": 134,
   "id": "755d45d4",
   "metadata": {
    "scrolled": true
   },
   "outputs": [
    {
     "name": "stdout",
     "output_type": "stream",
     "text": [
      "Failed to get file: \n",
      "Failed to get file: \n",
      "Failed to get file: \n",
      "Failed to get file: \n"
     ]
    }
   ],
   "source": [
    "for x in os.listdir('data/annotation/')[:10]:\n",
    "    if 'demo.xml' in os.listdir('data/annotation/' + x):\n",
    "        putFolkloreData(x)"
   ]
  },
  {
   "cell_type": "code",
   "execution_count": 135,
   "id": "e026df6e",
   "metadata": {
    "scrolled": true
   },
   "outputs": [
    {
     "name": "stdout",
     "output_type": "stream",
     "text": [
      "{'_id': ObjectId('64900ae9397b9020042fa32b'), 'doc_text': 'Двадцать шестого декабря сорок первого года я был взят в армию. А, короче, надо начинать с того, что я здесь родился, на Гришево я здесь родился. И родился я, вон дом стоит вот, я хочу вам показать… На задах моего огорода стоит барак, вот, в 23-м году я в этом бараке родился. Это, значит, моя родина.\\n– Как ваше отчество?\\n– Васильевич, Владимир Васильевич.\\n   Учился я в 17-ой школе. А потом в 36-ом году или в 35-ом году уехал к отцу. Мать с отцом разошлися, А я жил с бабушкой и дедушкой. А мать уехала. А я с бабушкой жил до ухода в армию. 26 декабря 41-го года был призван в армию и служил в Чите в Забайкалье. Был направлен в училище, в радио училище. Это радио училище в 42-м году я кончил. Потом был направлен в Забайкалье. Станция Борзя на Маньчжурской границе. После чего в феврале месяце 43-го года маршалом батареи был направлен на фронт. Феврале месяце, проезжая Черемхово, люди все к эшелону бежали. А я как раз наткнулся на старшего из команды: «Не вздумай убегать!». А он знал всех черемховцев, кто, где живёт, у него было переписано: «Тебе бежать в Гришево далёко, даже ты от эшелона отстанешь. Эшелон где-то простоит 2 часа». Я пошёл к начальнику станций, позвонил на шахту: «Малый Артём» к Коновалову: «Сообщи матери, что я проездом, еду на фронт». Он сообщил, а эшелон на станции простоял где-то 5 часов. Она пока ходила по путям. Ну её милиция схватила и предоставили её в отделение милиции. Потом она стоит в зале, на станции стоит, а взял в зал захожу, смотрю: мать стоит. Встретились мы, она говорит: «Так и так, меня милиция арестовала». Ну я пошёл к начальнику милиции, сообщил ребятам: «Сейчас придёт сюда, в отделение милиции, старший лейтенант». Сообщили, он пришел. Мы на начальника милиции напёрли, что мать пришла встретить сына, Который уезжает на фронт, а вы её арестовали, штраф взяли. Её спросили: «Кто?» Мать говорит: «Вот этот милиционер». Милиционеру сказали: «С тобой будем разбираться, верни деньги». Вернули деньги ей. Пробыли мы с ней где-то часа полтора и отправку эшелона по радио объявили. И всё, мы попрощались, поехали. И в марте месяце я попал на фронт. Наша Красная армия ещё отступала, и мне приходилось отступать.\\n   Весна. У нас мало было снарядов и техника была маловажная, трактора мы получили, когда повестки на фронт, новые машины - студебеккеры, пушки новые. Студебеккеры у нас забрали, дали трактора, они старенькие трактора.\\n- Вы до Берлина дошли?\\n- Нет. Пошли мы в Восточную Пруссию. Брал крепость Кенигсберг. Это по значимости второй Берлин, одинаково. Сейчас дело идёт очень плохо насчёт Калининградской области. Не знаю, чем это кончится. Вроде там Франция хочет эту область забрать.\\n   Был 43-ий год, уже нас более-менее… Мы уже взяли Орёл, Белгород. Я участвовал со своим великим полком. Так и воевали и наступали. Освобождал я Крым, брали Севастополь. А потом после освобождения Крыма нас бросили сначала в Молдавию, в Румынию, потом там переиграли и нас бросили в Белоруссию, под Смолень. Прибыли под Смолень, там бои тоже были, перевес уже был на нашей стороне, немец уже отступал. Брал город Витебск, Борисов, Молодечный. А в городе Борисове пришёл приказ, не приказ, а сообщение, что немец хочет взорвать мост через Березину. И решили группу в тыл послать, чтобы отстоять мост, взять его в свои руки и отстоять, чтобы немец не взорвал его. Ну и тут: «В добровольцы кто пойдёт?» Я говорю: «Ну я пойду». Набралось где-то группа, человек 50. Ночью, перейдя линию обороны, с нами разведка шла, она уже в курсе дела была, уже и дорогу знала и всю эту группу 50 человек она вела для захвата моста.\\n   На рассвете, где-то часа в четыре, туман над рекой поднимался. Это было благоприятное время для нас: туман, не видать ничего. Разведка часовых поснимала, и мы заняли оборону с этой стороны моста, и с этой стороны моста, и немцы не могли попасть ни отсюда, ни оттуда. У нас были ручные пулемёты, автоматы, хлеб, гранаты были. А на следующий день мы сообщили, что операция проведена нормально. А немцы поехали, они не знали, что охранение-то сняли, мы сняли охранение немецкое, и свободно едут на мост. И тут мы их и встретили. Ну тут машины все… Пробки получились, проехать нельзя. Была надпись, сообщили: «Так и так, мост в наших руках. А расстояние было или 75, или 50 ли км до переднего края. Наши танки прорвались - и к мосту. Немцы стали отступать. Так мы удержали мост. Под городом Молодеченском Вильнюс, Ригу брали. Партизаны помогали Ригу взять. В общем, окружили с двух сторон - с Севера и с Юга, немцам некуда было деваться и отступали, в Восточную Пруссию отходили. Мы освободили Литву, Латвию, Эстонию. А, Эстонию - нет. Нас перебросили на Восточную границу, и мы стали освобождать Восточную Пруссию и город Кенигсберг. Взяли его и поехали к нашим на Пелацский (нрзб.) полуостров. На Юге немец закрепился и нас туда перебросили. Едем, стало темнеть: «Вы куда едете? Идут ребята, все грязные: «Стояли в болоте мы, немец на высотах, а мы в болоте.» Пушки стояли на плотах, плоты из брёвен сделаны в 2-3 наката и на них пушки стояли. Я думаю: «Ну всё, там нам крах будет». Ну а потом лётчик говорит: «Ребята, война кончилась!» Мы говорим: «Как кончилась?» Он говорит: «Сегодня нам полеты отменили». Ну никто не верит: «Вот мы едем занимать боевые позиции». Все как стояли на дороге, никуда не двинулись. Там одно местечко, я уже не помню название, ну вот, приехали туда. Командир полка…', 'genre': 'Устный рассказ. ВОВ. «О войне 1941-1945 годов»', 'info': 'Котов Владимир Васильевич.\\nРодился в 1923 году в селе Гришево Черемховского района Иркутской области.', 'comment': nan, 'collector': '(Нет сведений, отсутствует фотоматериал.)', 'typewriter': 'Куликова Д.В. 2021г.'}\n"
     ]
    }
   ],
   "source": [
    "for x in text_collection.find().limit(1):\n",
    "    print(x)\n",
    "    "
   ]
  },
  {
   "cell_type": "code",
   "execution_count": 136,
   "id": "e6b3cfbd",
   "metadata": {},
   "outputs": [
    {
     "name": "stdout",
     "output_type": "stream",
     "text": [
      "{'_id': ObjectId('64900ae9397b9020042fa32c'), 'text': ' Я ', 'hero_ind': '0', 'hero_type': 'hm', 'id_doc': ObjectId('64900ae9397b9020042fa32b')}\n"
     ]
    }
   ],
   "source": [
    "for x in plots.find().limit(1):\n",
    "    print(x)"
   ]
  },
  {
   "cell_type": "code",
   "execution_count": 137,
   "id": "25930c81",
   "metadata": {},
   "outputs": [
    {
     "name": "stdout",
     "output_type": "stream",
     "text": [
      "{'_id': ObjectId('64900ae9397b9020042fa34c'), 'iniForm': 'двадцать', 'POS': 'NUMR', 'freq': 1, 'docs': [ObjectId('64900ae9397b9020042fa32b')]}\n"
     ]
    }
   ],
   "source": [
    "for x in lemmas.find().limit(1):\n",
    "    print(x)"
   ]
  },
  {
   "cell_type": "code",
   "execution_count": 151,
   "id": "f835090a",
   "metadata": {},
   "outputs": [
    {
     "name": "stdout",
     "output_type": "stream",
     "text": [
      "{'_id': ObjectId('64900ae9397b9020042fa34d'), 'token': 'Двадцать', 'iniForm': 'двадцать', 'tags': 'NUMR nomn', 'freq': 1, 'docs': [ObjectId('64900ae9397b9020042fa32b')]}\n",
      "{'_id': ObjectId('64900ae9397b9020042fa34f'), 'token': 'шестого', 'iniForm': 'шестой', 'tags': 'ADJF,Anum masc,sing,gent', 'freq': 1, 'docs': [ObjectId('64900ae9397b9020042fa32b')]}\n",
      "{'_id': ObjectId('64900ae9397b9020042fa351'), 'token': 'декабря', 'iniForm': 'декабрь', 'tags': 'NOUN,inan,masc sing,gent', 'freq': 2, 'docs': [ObjectId('64900ae9397b9020042fa32b')]}\n",
      "{'_id': ObjectId('64900ae9397b9020042fa353'), 'token': 'сорок', 'iniForm': 'сорок', 'tags': 'NUMR nomn', 'freq': 1, 'docs': [ObjectId('64900ae9397b9020042fa32b')]}\n",
      "{'_id': ObjectId('64900ae9397b9020042fa355'), 'token': 'первого', 'iniForm': 'первый', 'tags': 'ADJF,Anum neut,sing,gent', 'freq': 1, 'docs': [ObjectId('64900ae9397b9020042fa32b')]}\n",
      "{'_id': ObjectId('64900ae9397b9020042fa357'), 'token': 'года', 'iniForm': 'год', 'tags': 'NOUN,inan,masc sing,gent', 'freq': 3, 'docs': [ObjectId('64900ae9397b9020042fa32b')]}\n",
      "{'_id': ObjectId('64900ae9397b9020042fa359'), 'token': 'я', 'iniForm': 'я', 'tags': 'NPRO,1per sing,nomn', 'freq': 18, 'docs': [ObjectId('64900ae9397b9020042fa32b'), ObjectId('64900af8397b9020042fa789')]}\n",
      "{'_id': ObjectId('64900ae9397b9020042fa35b'), 'token': 'был', 'iniForm': 'быть', 'tags': 'VERB,impf,intr masc,sing,past,indc', 'freq': 7, 'docs': [ObjectId('64900ae9397b9020042fa32b'), ObjectId('64900af6397b9020042fa6f8'), ObjectId('64900af8397b9020042fa79f')]}\n",
      "{'_id': ObjectId('64900ae9397b9020042fa35d'), 'token': 'взят', 'iniForm': 'взять', 'tags': 'PRTS,perf,past,pssv masc,sing', 'freq': 1, 'docs': [ObjectId('64900ae9397b9020042fa32b')]}\n",
      "{'_id': ObjectId('64900ae9397b9020042fa35f'), 'token': 'в', 'iniForm': 'в', 'tags': 'PREP', 'freq': 39, 'docs': [ObjectId('64900ae9397b9020042fa32b'), ObjectId('64900af6397b9020042fa6f8'), ObjectId('64900af8397b9020042fa789')]}\n"
     ]
    }
   ],
   "source": [
    "for x in dictionary.find().limit(10):\n",
    "    print(x)"
   ]
  },
  {
   "cell_type": "code",
   "execution_count": 153,
   "id": "b8c9148a",
   "metadata": {},
   "outputs": [
    {
     "name": "stdout",
     "output_type": "stream",
     "text": [
      "{'_id': ObjectId('64900ae9397b9020042fa35b'), 'token': 'был', 'iniForm': 'быть', 'tags': 'VERB,impf,intr masc,sing,past,indc', 'freq': 7, 'docs': [ObjectId('64900ae9397b9020042fa32b'), ObjectId('64900af6397b9020042fa6f8'), ObjectId('64900af8397b9020042fa79f')]}\n",
      "{'_id': ObjectId('64900aeb397b9020042fa3e4'), 'token': 'Был', 'iniForm': 'быть', 'tags': 'VERB,impf,intr masc,sing,past,indc', 'freq': 2, 'docs': [ObjectId('64900ae9397b9020042fa32b')]}\n",
      "{'_id': ObjectId('64900aec397b9020042fa43e'), 'token': 'было', 'iniForm': 'быть', 'tags': 'VERB,impf,intr neut,sing,past,indc', 'freq': 5, 'docs': [ObjectId('64900ae9397b9020042fa32b')]}\n",
      "{'_id': ObjectId('64900aef397b9020042fa506'), 'token': 'была', 'iniForm': 'быть', 'tags': 'VERB,impf,intr femn,sing,past,indc', 'freq': 3, 'docs': [ObjectId('64900ae9397b9020042fa32b'), ObjectId('64900af6397b9020042fa6f8')]}\n",
      "{'_id': ObjectId('64900af3397b9020042fa64a'), 'token': 'Была', 'iniForm': 'быть', 'tags': 'VERB,impf,intr femn,sing,past,indc', 'freq': 1, 'docs': [ObjectId('64900ae9397b9020042fa32b')]}\n"
     ]
    }
   ],
   "source": [
    "# найди быть в прошедшем времени, ед числе \n",
    "\n",
    "for x in dictionary.find({'$and':[{'tags': {'$regex': 'past'}}, {'tags': {'$regex': 'sing'}}, {'iniForm':'быть'}]}):\n",
    "    print(x)"
   ]
  },
  {
   "cell_type": "code",
   "execution_count": 159,
   "id": "b3952d0c",
   "metadata": {},
   "outputs": [
    {
     "name": "stdout",
     "output_type": "stream",
     "text": [
      "{'_id': ObjectId('64900ae9397b9020042fa35b'), 'token': 'был', 'iniForm': 'быть', 'tags': 'VERB,impf,intr masc,sing,past,indc', 'freq': 7, 'docs': [ObjectId('64900ae9397b9020042fa32b'), ObjectId('64900af6397b9020042fa6f8'), ObjectId('64900af8397b9020042fa79f')]}\n",
      "{'_id': ObjectId('64900aeb397b9020042fa3e4'), 'token': 'Был', 'iniForm': 'быть', 'tags': 'VERB,impf,intr masc,sing,past,indc', 'freq': 2, 'docs': [ObjectId('64900ae9397b9020042fa32b')]}\n",
      "{'_id': ObjectId('64900aec397b9020042fa43e'), 'token': 'было', 'iniForm': 'быть', 'tags': 'VERB,impf,intr neut,sing,past,indc', 'freq': 5, 'docs': [ObjectId('64900ae9397b9020042fa32b')]}\n",
      "{'_id': ObjectId('64900aef397b9020042fa506'), 'token': 'была', 'iniForm': 'быть', 'tags': 'VERB,impf,intr femn,sing,past,indc', 'freq': 3, 'docs': [ObjectId('64900ae9397b9020042fa32b'), ObjectId('64900af6397b9020042fa6f8')]}\n",
      "{'_id': ObjectId('64900af0397b9020042fa596'), 'token': 'были', 'iniForm': 'быть', 'tags': 'VERB,impf,intr plur,past,indc', 'freq': 4, 'docs': [ObjectId('64900ae9397b9020042fa32b'), ObjectId('64900af6397b9020042fa6f8')]}\n",
      "{'_id': ObjectId('64900af3397b9020042fa64a'), 'token': 'Была', 'iniForm': 'быть', 'tags': 'VERB,impf,intr femn,sing,past,indc', 'freq': 1, 'docs': [ObjectId('64900ae9397b9020042fa32b')]}\n",
      "{'_id': ObjectId('64900af5397b9020042fa6c9'), 'token': 'будет', 'iniForm': 'быть', 'tags': 'VERB,impf,intr sing,3per,futr,indc', 'freq': 1, 'docs': [ObjectId('64900ae9397b9020042fa32b')]}\n"
     ]
    }
   ],
   "source": [
    "# использую ИЛИ и И в одном запросе\n",
    "# найди документы в которых (И) лемма быть стоит в прошедшем времени (ИЛИ) единственном числе\n",
    "\n",
    "for x in dictionary.find({'$and': [{'$or':[{'tags': {'$regex': 'past'}}, {'tags': {'$regex': 'sing'}}]}, {'iniForm':'быть'}]}):\n",
    "    print(x)"
   ]
  },
  {
   "cell_type": "code",
   "execution_count": 149,
   "id": "51bc9bd2",
   "metadata": {},
   "outputs": [],
   "source": [
    "# удалить все\n",
    "# text_collection.delete_many({})\n",
    "# lemmas.delete_many({})\n",
    "# plots.delete_many({})\n",
    "# dictionary.delete_many({})"
   ]
  },
  {
   "cell_type": "code",
   "execution_count": 375,
   "id": "92a97f89",
   "metadata": {},
   "outputs": [],
   "source": [
    "# удалить определенные документы\n",
    "#  plots.delete_many({'hero_type': 'wm'})"
   ]
  },
  {
   "cell_type": "code",
   "execution_count": 376,
   "id": "af227cf6",
   "metadata": {},
   "outputs": [],
   "source": [
    "# удалить документ по id \n",
    "# plots.delete_one({'_id': ObjectId('6488bd6351c58258acc7f5f2')})"
   ]
  },
  {
   "cell_type": "code",
   "execution_count": 377,
   "id": "67670eb3",
   "metadata": {},
   "outputs": [],
   "source": [
    "# обновить разметку\n",
    "\n",
    "# print(plots.find_one_and_update({'_id': ObjectId('6488bd6351c58258acc7f5f4')}, {'$set' :{'hero_type': 'hj'}}))\n",
    "# plots.find({'_id' : ObjectId('6488bd6351c58258acc7f5f4')})[0]"
   ]
  },
  {
   "cell_type": "code",
   "execution_count": 160,
   "id": "94c49f61",
   "metadata": {},
   "outputs": [],
   "source": [
    "for x in text_collection.find({'$and':[{'genre' : {'$regex': '[Чч]астушк.*'}}, {'info': {'$regex': '\\sг\\.\\s[А-Я][а-я]+'}}]}).limit(2):\n",
    "    print(x)\n",
    "    print('----------')"
   ]
  },
  {
   "cell_type": "code",
   "execution_count": 199,
   "id": "1f33e4c1",
   "metadata": {},
   "outputs": [
    {
     "data": {
      "text/plain": [
       "{'5'}"
      ]
     },
     "execution_count": 199,
     "metadata": {},
     "output_type": "execute_result"
    }
   ],
   "source": [
    "# s = set()\n",
    "b = set()\n",
    "b.update('5')\n",
    "s.update('5')\n",
    "s.intersection(b)"
   ]
  },
  {
   "cell_type": "code",
   "execution_count": null,
   "id": "4cfa59b9",
   "metadata": {},
   "outputs": [],
   "source": [
    "def get_by_plot(response_list):\n",
    "    plot = set()\n",
    "    for x in plots.find({'label': {'$in': response_plot}}):\n",
    "        plot.update(text_collection.find({\"_id\": x['id_doc']})[0]['_id'])\n",
    "    return plot"
   ]
  },
  {
   "cell_type": "code",
   "execution_count": 226,
   "id": "8c3c09e2",
   "metadata": {},
   "outputs": [
    {
     "data": {
      "text/plain": [
       "[ObjectId('648cfa9161b224ea1ad2d616'),\n",
       " ObjectId('648cfa9561b224ea1ad2d6f8'),\n",
       " ObjectId('648cfaa861b224ea1ad2da35'),\n",
       " ObjectId('648cfaab61b224ea1ad2dba1'),\n",
       " ObjectId('648f7dd9adadd388c446841b'),\n",
       " ObjectId('648f7de0adadd388c446844a'),\n",
       " ObjectId('648f7e08adadd388c4468518'),\n",
       " ObjectId('648f7e18adadd388c446859c')]"
      ]
     },
     "execution_count": 226,
     "metadata": {},
     "output_type": "execute_result"
    }
   ],
   "source": [
    "def preprocess(token):\n",
    "    token = morph.parse(token.strip())[0].normal_form\n",
    "    return token\n",
    "\n",
    "def get_doc_ids(lemma: str, \n",
    "             response_tags: list, \n",
    "             response_hero: list, \n",
    "             response_plot: list, \n",
    "            response_genre='',\n",
    "            response_info=''):\n",
    "    \"\"\" все кроме леммы идет в forms.tags и подается в списке response_tags \"\"\"\n",
    "    res = []\n",
    "#     lemma = 'старый'\n",
    "#     response_tags = ['ед']\n",
    "    list_of_tags = []\n",
    "    if response_tags:\n",
    "        list_of_tags = [{'forms.tags': re.compile(i)} for i in response_tags]\n",
    "    if lemma: \n",
    "        list_of_tags.append({'iniForm': preprocess(lemma)})\n",
    "    if list_of_tags:\n",
    "        for x in lemmas.find({'$and': list_of_tags}):\n",
    "            for doc in text_collection.find({'_id': {'$in': x['docs']}}):\n",
    "                res.append(doc['_id'])\n",
    "#                 print(doc)\n",
    "                \n",
    "    if response_hero:\n",
    "        hero = []\n",
    "        for y in plots.aggregate([{'$match' : {'hero_type': {'$in': response_hero}}}, {'$group': {'_id': '$id_doc'}}]):\n",
    "            hero.append(text_collection.find({'_id': y['_id']})[0]['_id'])\n",
    "                \n",
    "    if response_plot:\n",
    "#         print(response_plot)\n",
    "        plot = []\n",
    "        for x in plots.find({'label': {'$in': response_plot}}):\n",
    "            plot.append(text_collection.find({\"_id\": x['id_doc']})[0]['_id'])\n",
    "            \n",
    "        plot = []\n",
    "        for x in plots.find({'$and':[{'genre' : {'$regex': response_genre}}, \n",
    "                                     {'info': {'$regex': response_info}}]}):\n",
    "            info.append(text_collection.find({\"_id\": x['id_doc']})[0]['_id'])\n",
    "    return res\n",
    "\n",
    "# def get_by_heroes(hero):\n",
    "\n",
    "\n",
    "def get_by_pos(pos):\n",
    "    res = []\n",
    "    for x in lemmas.find({'POS': pos}):\n",
    "        for doc in text_collection.find({'_id': {'$in': x['docs']}}):\n",
    "            res.append(doc['_id'])\n",
    "    return res\n",
    "\n",
    "# for x in get_by_lemma('старый'):\n",
    "#     print(x[''])\n",
    "res = get_docs('старый', [],['hw', 'dw', 'vw'], ['+s3'], 'част')\n",
    "# res[0] == res[0]\n",
    "res"
   ]
  },
  {
   "cell_type": "code",
   "execution_count": 176,
   "id": "837a45d4",
   "metadata": {},
   "outputs": [
    {
     "name": "stdout",
     "output_type": "stream",
     "text": [
      "{'_id': ObjectId('64900af8397b9020042fa789')}\n",
      "Мне мой милый изменил,\n",
      "На козе уехал в Крым,\n",
      "А я маху не дала,\n",
      "На корове догнала.\n",
      "{'_id': ObjectId('64900af8397b9020042fa79f')}\n",
      "Без меня меня женили,\n",
      "Я на мельнице был,\n",
      "Приезжаю домой\n",
      "Поздравляют с женой.\n"
     ]
    }
   ],
   "source": [
    "# агрегация с условием больше чем по 1 полю\n",
    "\n",
    "for y in plots.aggregate([{'$match' : {'$or': \n",
    "                                       [{'label': 'b4'}, {'label': '-s3'}]\n",
    "                                      }}, \n",
    "                           {'$group': {'_id': '$id_doc'}}]):\n",
    "    print(y)\n",
    "    print(text_collection.find({\"_id\": y['_id']})[0]['doc_text'])"
   ]
  },
  {
   "cell_type": "code",
   "execution_count": 229,
   "id": "3a5c8fa6",
   "metadata": {},
   "outputs": [
    {
     "data": {
      "text/plain": [
       "[{'_id': ObjectId('648cfa9161b224ea1ad2d616'),\n",
       "  'doc_text': 'Я иду, а мне навстречу\\nИдёт милка парою.\\nВидно он провожает\\nУхажёрку старую. ',\n",
       "  'genre': 'Частушка, лирическая (встреча влюбленных).',\n",
       "  'info': 'Плакида Варвара Григорьевна.',\n",
       "  'comment': 'Диалектизмы: милка\\nФеминитив: ухажёрка.',\n",
       "  'collector': nan,\n",
       "  'typewriter': nan},\n",
       " {'_id': ObjectId('648cfa9561b224ea1ad2d6f8'),\n",
       "  'doc_text': 'Не завешивай окошки\\nСтарой занавескою.\\nВсё-равно мне не бывать\\nВашею невесткою.',\n",
       "  'genre': 'Частушки',\n",
       "  'info': 'Лагутина Клавдия Николаевна\\nНациональность: русская\\nГод рождения: 1928г.\\nМесто рождения: с Бальзино Дульдургинского р-на Читинской обл.\\nОбразование: 4 класса начальной школы\\nПрофессия: повар',\n",
       "  'comment': nan,\n",
       "  'collector': 'студентами 1 курса 3 группы филологического ф – та ИГУ Съяновой А., Тирских Н. 13 июля 1981г. Место записи: с. Бальзино Дульдургинского р – на Читинской обл.',\n",
       "  'typewriter': 'студентка 1 курса группы 211121 – ЗБ  филологического ф-та ИГУ Иванова Ульяна 2019 г. Место: птг. Тыреть, мкр Солерудник.'},\n",
       " {'_id': ObjectId('648cfaa861b224ea1ad2da35'),\n",
       "  'doc_text': 'Когда мне было лет 17\\nЯ полюбила старика.\\nСтарик высокий, черноокий,\\nА я как розочка цвела.\\nСтарик дарил же мне колечко,\\nСтарик дарил же мне браслет\\nИ долго-долго мы встречались,\\nНе знала мать, не знал отец.\\nУзнал отец - и выгнал с дому,\\nА мать навеки прокляла.\\nИ я пошла же той дорожкой\\nИ повстречала старика.\\n\"Старик, старик возьми с собою,\\nСтарик, теперь я вся твоя\".\\nСтарик толкнул меня рукою:\\n\"Иди, беспутное дитя.\\nСама же знала, что я старый,\\nА ты совсем ещё дитя.\\nЗачем ты, глупая девчонка,\\nПодарки брала от меня?\"\\nИ я пошла же той дорожкой,\\nКотора к станции ведет,\\nИ долго-долго там стояла\\nИ долго поезда ждала.\\nВот мчится поезд, мчится скорый,\\nА я на линию легла...\\nИ так скончалась жизнь младая\\nИз-за седого старика.\\n\\n                                                                   \\n\\n                                     ',\n",
       "  'genre': 'Песня',\n",
       "  'info': nan,\n",
       "  'comment': nan,\n",
       "  'collector': 'Записала: Семчевская Женя, г. Иркутск, 1980г. Текст набрал: Хрущева А.В., г. Иркутск, 2019г.',\n",
       "  'typewriter': nan},\n",
       " {'_id': ObjectId('648cfaab61b224ea1ad2dba1'),\n",
       "  'doc_text': 'Где сшито на живую нитку, там жди прорехи.\\nЧто достаётся легко, то отдашь легко.\\nЛуна и ночь - что мать и дочь.\\nХоть слово \"мёд\" мы скажем десять раз, не станет сладко на губах у нас.\\nХоть это каждый знает:\\n      Осёл коню родня,\\n      Но сам осёл считает\\n      Себя умней коня.\\nЗимой солнце, что мачеха: светит, да не греет.\\nЗиме и лету союза нету.\\nЗимой съел бы грибок, да снег глубок.\\nНе страшен мороз, когда тепло укрыт нос.\\nПропущенный час годом не нагонишь.\\nДелай не наспех, но скоро.\\nПошло вкось, хоть всё дело брось.\\nДружно - не грузно, а врозь - хоть брось.\\nВсякая помощь хороша вовремя.\\nНе торопись в баню, слепой, а то ошпаришься.\\nОдной рукой и узла не развяжешь.\\nСейчас народ как мак цветет.\\nЧто с воза упало, то пропало.\\nБездонную бочку водой не наполнишь.\\nНе бойся той собаки, что лает, а бойся той, что исподтишка кусает.\\nЖизнь прожить - не поле перейти.\\nДыма без огня не бывает.\\nКлин клином вышибают.\\nНе было печали, так черти наказали.\\nНе было у бабы хлопот, так купила порося.\\nЧем дальше в лес, тем больше дров.\\nЧем бы дитя не тешилось, лишь бы не плакало.\\nЦыплят по осени считают.\\nСтарый друг лучше новых двух.\\nСлово не воробей, вылетит - не поймаешь.\\nСколько верёвочке ни виться, а конец будет.\\nСемь раз примерь, один раз отрежь.\\nСвет не без добрых людей.\\nС кем поведёшься, от того и наберёшься.\\nС глаз долой - из сердца вон.\\nС миру по нитке - голому рубаха.\\nПришла беда, отворяй ворота.\\nПравда глаза колет.\\nПравда - хорошо, а счастье лучше.\\nРиск - благородное дело.\\nПосле драки кулаками не машут.                     ',\n",
       "  'genre': 'Пословицы и поговорки.',\n",
       "  'info': nan,\n",
       "  'comment': nan,\n",
       "  'collector': 'Записала: Семчевская Женя, г. Иркутск, 1980г. Текст набрал: Хрущева А.В., г. Иркутск, 2019г.',\n",
       "  'typewriter': nan},\n",
       " {'_id': ObjectId('648f7dd9adadd388c446841b'),\n",
       "  'doc_text': 'Я иду, а мне навстречу\\nИдёт милка парою.\\nВидно он провожает\\nУхажёрку старую. ',\n",
       "  'genre': 'Частушка, лирическая (встреча влюбленных).',\n",
       "  'info': 'Плакида Варвара Григорьевна.',\n",
       "  'comment': 'Диалектизмы: милка\\nФеминитив: ухажёрка.',\n",
       "  'collector': nan,\n",
       "  'typewriter': nan},\n",
       " {'_id': ObjectId('648f7de0adadd388c446844a'),\n",
       "  'doc_text': 'Не завешивай окошки\\nСтарой занавескою.\\nВсё-равно мне не бывать\\nВашею невесткою.',\n",
       "  'genre': 'Частушки',\n",
       "  'info': 'Лагутина Клавдия Николаевна\\nНациональность: русская\\nГод рождения: 1928г.\\nМесто рождения: с Бальзино Дульдургинского р-на Читинской обл.\\nОбразование: 4 класса начальной школы\\nПрофессия: повар',\n",
       "  'comment': nan,\n",
       "  'collector': 'студентами 1 курса 3 группы филологического ф – та ИГУ Съяновой А., Тирских Н. 13 июля 1981г. Место записи: с. Бальзино Дульдургинского р – на Читинской обл.',\n",
       "  'typewriter': 'студентка 1 курса группы 211121 – ЗБ  филологического ф-та ИГУ Иванова Ульяна 2019 г. Место: птг. Тыреть, мкр Солерудник.'},\n",
       " {'_id': ObjectId('648f7e08adadd388c4468518'),\n",
       "  'doc_text': 'Когда мне было лет 17\\nЯ полюбила старика.\\nСтарик высокий, черноокий,\\nА я как розочка цвела.\\nСтарик дарил же мне колечко,\\nСтарик дарил же мне браслет\\nИ долго-долго мы встречались,\\nНе знала мать, не знал отец.\\nУзнал отец - и выгнал с дому,\\nА мать навеки прокляла.\\nИ я пошла же той дорожкой\\nИ повстречала старика.\\n\"Старик, старик возьми с собою,\\nСтарик, теперь я вся твоя\".\\nСтарик толкнул меня рукою:\\n\"Иди, беспутное дитя.\\nСама же знала, что я старый,\\nА ты совсем ещё дитя.\\nЗачем ты, глупая девчонка,\\nПодарки брала от меня?\"\\nИ я пошла же той дорожкой,\\nКотора к станции ведет,\\nИ долго-долго там стояла\\nИ долго поезда ждала.\\nВот мчится поезд, мчится скорый,\\nА я на линию легла...\\nИ так скончалась жизнь младая\\nИз-за седого старика.\\n\\n                                                                   \\n\\n                                     ',\n",
       "  'genre': 'Песня',\n",
       "  'info': nan,\n",
       "  'comment': nan,\n",
       "  'collector': 'Записала: Семчевская Женя, г. Иркутск, 1980г. Текст набрал: Хрущева А.В., г. Иркутск, 2019г.',\n",
       "  'typewriter': nan},\n",
       " {'_id': ObjectId('648f7e18adadd388c446859c'),\n",
       "  'doc_text': 'Где сшито на живую нитку, там жди прорехи.\\nЧто достаётся легко, то отдашь легко.\\nЛуна и ночь - что мать и дочь.\\nХоть слово \"мёд\" мы скажем десять раз, не станет сладко на губах у нас.\\nХоть это каждый знает:\\n      Осёл коню родня,\\n      Но сам осёл считает\\n      Себя умней коня.\\nЗимой солнце, что мачеха: светит, да не греет.\\nЗиме и лету союза нету.\\nЗимой съел бы грибок, да снег глубок.\\nНе страшен мороз, когда тепло укрыт нос.\\nПропущенный час годом не нагонишь.\\nДелай не наспех, но скоро.\\nПошло вкось, хоть всё дело брось.\\nДружно - не грузно, а врозь - хоть брось.\\nВсякая помощь хороша вовремя.\\nНе торопись в баню, слепой, а то ошпаришься.\\nОдной рукой и узла не развяжешь.\\nСейчас народ как мак цветет.\\nЧто с воза упало, то пропало.\\nБездонную бочку водой не наполнишь.\\nНе бойся той собаки, что лает, а бойся той, что исподтишка кусает.\\nЖизнь прожить - не поле перейти.\\nДыма без огня не бывает.\\nКлин клином вышибают.\\nНе было печали, так черти наказали.\\nНе было у бабы хлопот, так купила порося.\\nЧем дальше в лес, тем больше дров.\\nЧем бы дитя не тешилось, лишь бы не плакало.\\nЦыплят по осени считают.\\nСтарый друг лучше новых двух.\\nСлово не воробей, вылетит - не поймаешь.\\nСколько верёвочке ни виться, а конец будет.\\nСемь раз примерь, один раз отрежь.\\nСвет не без добрых людей.\\nС кем поведёшься, от того и наберёшься.\\nС глаз долой - из сердца вон.\\nС миру по нитке - голому рубаха.\\nПришла беда, отворяй ворота.\\nПравда глаза колет.\\nПравда - хорошо, а счастье лучше.\\nРиск - благородное дело.\\nПосле драки кулаками не машут.                     ',\n",
       "  'genre': 'Пословицы и поговорки.',\n",
       "  'info': nan,\n",
       "  'comment': nan,\n",
       "  'collector': 'Записала: Семчевская Женя, г. Иркутск, 1980г. Текст набрал: Хрущева А.В., г. Иркутск, 2019г.',\n",
       "  'typewriter': nan}]"
      ]
     },
     "execution_count": 229,
     "metadata": {},
     "output_type": "execute_result"
    }
   ],
   "source": [
    "def get_docs(id_docs):\n",
    "    res = []\n",
    "    for doc in text_collection.find({'_id': {'$in': id_docs}}):\n",
    "        ids = [r['_id'] for r in res if r]\n",
    "        if doc['_id'] not in ids:\n",
    "            res.append(doc)\n",
    "    return res\n",
    "# print(res)\n",
    "res = get_docs(get_doc_ids('старый', [], [], []))\n",
    "res"
   ]
  },
  {
   "cell_type": "code",
   "execution_count": 132,
   "id": "bd7145dc",
   "metadata": {},
   "outputs": [
    {
     "data": {
      "text/plain": [
       "4"
      ]
     },
     "execution_count": 132,
     "metadata": {},
     "output_type": "execute_result"
    }
   ],
   "source": [
    "len(set(res))"
   ]
  },
  {
   "cell_type": "code",
   "execution_count": 125,
   "id": "4f7a7f94",
   "metadata": {},
   "outputs": [
    {
     "name": "stdout",
     "output_type": "stream",
     "text": [
      "{'_id': ObjectId('648cfa9161b224ea1ad2d621'), 'iniForm': 'старый', 'POS': 'ADJF', 'freq': 8, 'docs': [ObjectId('648cfa9161b224ea1ad2d616'), ObjectId('648cfa9561b224ea1ad2d6f8'), ObjectId('648cfaa861b224ea1ad2da35'), ObjectId('648cfaab61b224ea1ad2dba1'), ObjectId('648f7dd9adadd388c446841b'), ObjectId('648f7de0adadd388c446844a'), ObjectId('648f7e08adadd388c4468518'), ObjectId('648f7e18adadd388c446859c')], 'forms': [{'token': 'старую', 'tags': 'ПРИЛ,кач жр,ед,вн'}, {'token': 'Старой', 'tags': 'ПРИЛ,кач жр,ед,рд'}, {'token': 'старый', 'tags': 'ПРИЛ,кач мр,ед,им'}, {'token': 'Старый', 'tags': 'ПРИЛ,кач мр,ед,им'}]}\n",
      "['Я иду, а мне навстречу\\nИдёт милка парою.\\nВидно он провожает\\nУхажёрку старую. ', 'Не завешивай окошки\\nСтарой занавескою.\\nВсё-равно мне не бывать\\nВашею невесткою.', 'Когда мне было лет 17\\nЯ полюбила старика.\\nСтарик высокий, черноокий,\\nА я как розочка цвела.\\nСтарик дарил же мне колечко,\\nСтарик дарил же мне браслет\\nИ долго-долго мы встречались,\\nНе знала мать, не знал отец.\\nУзнал отец - и выгнал с дому,\\nА мать навеки прокляла.\\nИ я пошла же той дорожкой\\nИ повстречала старика.\\n\"Старик, старик возьми с собою,\\nСтарик, теперь я вся твоя\".\\nСтарик толкнул меня рукою:\\n\"Иди, беспутное дитя.\\nСама же знала, что я старый,\\nА ты совсем ещё дитя.\\nЗачем ты, глупая девчонка,\\nПодарки брала от меня?\"\\nИ я пошла же той дорожкой,\\nКотора к станции ведет,\\nИ долго-долго там стояла\\nИ долго поезда ждала.\\nВот мчится поезд, мчится скорый,\\nА я на линию легла...\\nИ так скончалась жизнь младая\\nИз-за седого старика.\\n\\n                                                                   \\n\\n                                     ', 'Где сшито на живую нитку, там жди прорехи.\\nЧто достаётся легко, то отдашь легко.\\nЛуна и ночь - что мать и дочь.\\nХоть слово \"мёд\" мы скажем десять раз, не станет сладко на губах у нас.\\nХоть это каждый знает:\\n      Осёл коню родня,\\n      Но сам осёл считает\\n      Себя умней коня.\\nЗимой солнце, что мачеха: светит, да не греет.\\nЗиме и лету союза нету.\\nЗимой съел бы грибок, да снег глубок.\\nНе страшен мороз, когда тепло укрыт нос.\\nПропущенный час годом не нагонишь.\\nДелай не наспех, но скоро.\\nПошло вкось, хоть всё дело брось.\\nДружно - не грузно, а врозь - хоть брось.\\nВсякая помощь хороша вовремя.\\nНе торопись в баню, слепой, а то ошпаришься.\\nОдной рукой и узла не развяжешь.\\nСейчас народ как мак цветет.\\nЧто с воза упало, то пропало.\\nБездонную бочку водой не наполнишь.\\nНе бойся той собаки, что лает, а бойся той, что исподтишка кусает.\\nЖизнь прожить - не поле перейти.\\nДыма без огня не бывает.\\nКлин клином вышибают.\\nНе было печали, так черти наказали.\\nНе было у бабы хлопот, так купила порося.\\nЧем дальше в лес, тем больше дров.\\nЧем бы дитя не тешилось, лишь бы не плакало.\\nЦыплят по осени считают.\\nСтарый друг лучше новых двух.\\nСлово не воробей, вылетит - не поймаешь.\\nСколько верёвочке ни виться, а конец будет.\\nСемь раз примерь, один раз отрежь.\\nСвет не без добрых людей.\\nС кем поведёшься, от того и наберёшься.\\nС глаз долой - из сердца вон.\\nС миру по нитке - голому рубаха.\\nПришла беда, отворяй ворота.\\nПравда глаза колет.\\nПравда - хорошо, а счастье лучше.\\nРиск - благородное дело.\\nПосле драки кулаками не машут.                     ', 'Я иду, а мне навстречу\\nИдёт милка парою.\\nВидно он провожает\\nУхажёрку старую. ', 'Не завешивай окошки\\nСтарой занавескою.\\nВсё-равно мне не бывать\\nВашею невесткою.', 'Когда мне было лет 17\\nЯ полюбила старика.\\nСтарик высокий, черноокий,\\nА я как розочка цвела.\\nСтарик дарил же мне колечко,\\nСтарик дарил же мне браслет\\nИ долго-долго мы встречались,\\nНе знала мать, не знал отец.\\nУзнал отец - и выгнал с дому,\\nА мать навеки прокляла.\\nИ я пошла же той дорожкой\\nИ повстречала старика.\\n\"Старик, старик возьми с собою,\\nСтарик, теперь я вся твоя\".\\nСтарик толкнул меня рукою:\\n\"Иди, беспутное дитя.\\nСама же знала, что я старый,\\nА ты совсем ещё дитя.\\nЗачем ты, глупая девчонка,\\nПодарки брала от меня?\"\\nИ я пошла же той дорожкой,\\nКотора к станции ведет,\\nИ долго-долго там стояла\\nИ долго поезда ждала.\\nВот мчится поезд, мчится скорый,\\nА я на линию легла...\\nИ так скончалась жизнь младая\\nИз-за седого старика.\\n\\n                                                                   \\n\\n                                     ', 'Где сшито на живую нитку, там жди прорехи.\\nЧто достаётся легко, то отдашь легко.\\nЛуна и ночь - что мать и дочь.\\nХоть слово \"мёд\" мы скажем десять раз, не станет сладко на губах у нас.\\nХоть это каждый знает:\\n      Осёл коню родня,\\n      Но сам осёл считает\\n      Себя умней коня.\\nЗимой солнце, что мачеха: светит, да не греет.\\nЗиме и лету союза нету.\\nЗимой съел бы грибок, да снег глубок.\\nНе страшен мороз, когда тепло укрыт нос.\\nПропущенный час годом не нагонишь.\\nДелай не наспех, но скоро.\\nПошло вкось, хоть всё дело брось.\\nДружно - не грузно, а врозь - хоть брось.\\nВсякая помощь хороша вовремя.\\nНе торопись в баню, слепой, а то ошпаришься.\\nОдной рукой и узла не развяжешь.\\nСейчас народ как мак цветет.\\nЧто с воза упало, то пропало.\\nБездонную бочку водой не наполнишь.\\nНе бойся той собаки, что лает, а бойся той, что исподтишка кусает.\\nЖизнь прожить - не поле перейти.\\nДыма без огня не бывает.\\nКлин клином вышибают.\\nНе было печали, так черти наказали.\\nНе было у бабы хлопот, так купила порося.\\nЧем дальше в лес, тем больше дров.\\nЧем бы дитя не тешилось, лишь бы не плакало.\\nЦыплят по осени считают.\\nСтарый друг лучше новых двух.\\nСлово не воробей, вылетит - не поймаешь.\\nСколько верёвочке ни виться, а конец будет.\\nСемь раз примерь, один раз отрежь.\\nСвет не без добрых людей.\\nС кем поведёшься, от того и наберёшься.\\nС глаз долой - из сердца вон.\\nС миру по нитке - голому рубаха.\\nПришла беда, отворяй ворота.\\nПравда глаза колет.\\nПравда - хорошо, а счастье лучше.\\nРиск - благородное дело.\\nПосле драки кулаками не машут.                     ']\n"
     ]
    }
   ],
   "source": [
    "# вывести тексты, сожержащие лемму \"старая\"\n",
    "import re\n",
    "res = []\n",
    "lemma = 'старый'\n",
    "response_tags = ['ед']\n",
    "list_of_tags = []\n",
    "if response_tags:\n",
    "    list_of_tags = [{'forms.tags': re.compile(i)} for i in response_tags]\n",
    "if lemma: \n",
    "    list_of_tags.append({'iniForm': preprocess(lemma)})\n",
    "if list_of_tags:\n",
    "    for x in lemmas.find({'$and': list_of_tags}):#, 'forms': {'$in': }'ПРИЛ,кач жр,ед,вн'}):\n",
    "        print(x)\n",
    "        for doc in text_collection.find({'_id': {'$in': x['docs']}}):\n",
    "            res.append(doc['doc_text'])\n",
    "#     for doc in text_collection.find({'_id': {'$in': x['docs']}}):\n",
    "#         print(doc)\n",
    "print(res)\n",
    "#     print('-----------')"
   ]
  },
  {
   "cell_type": "code",
   "execution_count": 157,
   "id": "9ba5a9e1",
   "metadata": {},
   "outputs": [],
   "source": [
    "def get_by_plot():\n",
    "    for y in plots.aggregate([{'$match' : {'hero_type': {'$in': ['vz', 'pa']}}}, {'$group': {'_id': '$id_doc'}}]):\n",
    "        print(text_collection.find({'_id': y['_id']})[0])"
   ]
  },
  {
   "cell_type": "code",
   "execution_count": 84,
   "id": "5dd9af4c",
   "metadata": {},
   "outputs": [
    {
     "data": {
      "text/plain": [
       "Collection(Database(MongoClient(host=['localhost:27017'], document_class=dict, tz_aware=False, connect=True, unicode_decode_error_handler='ignore'), 'mongo_for_folklore'), 'lemmas.forms.tags.0')"
      ]
     },
     "execution_count": 84,
     "metadata": {},
     "output_type": "execute_result"
    }
   ],
   "source": [
    "lemmas['forms']['tags'][0]"
   ]
  },
  {
   "cell_type": "code",
   "execution_count": 81,
   "id": "d6255cbc",
   "metadata": {},
   "outputs": [
    {
     "name": "stdout",
     "output_type": "stream",
     "text": [
      "{'_id': ObjectId('648cfa8a61b224ea1ad2d4e9'), 'iniForm': 'восточный', 'POS': 'ADJF', 'freq': 8, 'docs': [ObjectId('648cfa8661b224ea1ad2d3f4'), ObjectId('648f7dc4adadd388c44683d9')], 'forms': [{'token': 'Восточную', 'tags': 'ПРИЛ,кач жр,ед,вн'}]}\n",
      "{'_id': ObjectId('648cfa8f61b224ea1ad2d5b6'), 'iniForm': 'новый', 'POS': 'ADJF', 'freq': 6, 'docs': [ObjectId('648cfa8f61b224ea1ad2d5a9'), ObjectId('648cfa9861b224ea1ad2d7cf'), ObjectId('648cfaab61b224ea1ad2dba1'), ObjectId('648f7dd5adadd388c44683fa'), ObjectId('648f7de6adadd388c446848a'), ObjectId('648f7e18adadd388c446859c')], 'forms': [{'token': 'новый', 'tags': 'ПРИЛ,кач неод,мр,ед,вн'}, {'token': 'новую', 'tags': 'ПРИЛ,кач жр,ед,вн'}, {'token': 'новых', 'tags': 'ПРИЛ,кач мн,рд'}]}\n",
      "{'_id': ObjectId('648cfa8f61b224ea1ad2d5b8'), 'iniForm': 'большой', 'POS': 'ADJF', 'freq': 34, 'docs': [ObjectId('648cfa8f61b224ea1ad2d5a9'), ObjectId('648cfa9261b224ea1ad2d664'), ObjectId('648cfa9861b224ea1ad2d7cf'), ObjectId('648cfaac61b224ea1ad2dc08'), ObjectId('648cfaaf61b224ea1ad2dcf7'), ObjectId('648cfab761b224ea1ad2ded2'), ObjectId('648cfab861b224ea1ad2df41'), ObjectId('648f7dd5adadd388c44683fa'), ObjectId('648f7ddbadadd388c4468430'), ObjectId('648f7de6adadd388c446848a'), ObjectId('648f7e1eadadd388c446859e'), ObjectId('648f7e2aadadd388c44685f3'), ObjectId('648f7e49adadd388c4468667'), ObjectId('648f7e4fadadd388c446868c')], 'forms': [{'token': 'большой', 'tags': 'ПРИЛ,кач жр,ед,рд'}, {'token': 'большое', 'tags': 'ПРИЛ,кач ср,ед,им'}, {'token': 'большие', 'tags': 'ПРИЛ,кач мн,им'}, {'token': 'большая', 'tags': 'ПРИЛ,кач жр,ед,им'}, {'token': 'Большой', 'tags': 'ПРИЛ,кач жр,ед,рд'}, {'token': 'большую', 'tags': 'ПРИЛ,кач жр,ед,вн'}]}\n",
      "{'_id': ObjectId('648cfa9161b224ea1ad2d621'), 'iniForm': 'старый', 'POS': 'ADJF', 'freq': 8, 'docs': [ObjectId('648cfa9161b224ea1ad2d616'), ObjectId('648cfa9561b224ea1ad2d6f8'), ObjectId('648cfaa861b224ea1ad2da35'), ObjectId('648cfaab61b224ea1ad2dba1'), ObjectId('648f7dd9adadd388c446841b'), ObjectId('648f7de0adadd388c446844a'), ObjectId('648f7e08adadd388c4468518'), ObjectId('648f7e18adadd388c446859c')], 'forms': [{'token': 'старую', 'tags': 'ПРИЛ,кач жр,ед,вн'}, {'token': 'Старой', 'tags': 'ПРИЛ,кач жр,ед,рд'}, {'token': 'старый', 'tags': 'ПРИЛ,кач мр,ед,им'}, {'token': 'Старый', 'tags': 'ПРИЛ,кач мр,ед,им'}]}\n",
      "{'_id': ObjectId('648cfa9261b224ea1ad2d63c'), 'iniForm': 'печальный', 'POS': 'ADJF', 'freq': 6, 'docs': [ObjectId('648cfa9261b224ea1ad2d636'), ObjectId('648cfa9461b224ea1ad2d6e0'), ObjectId('648cfab161b224ea1ad2dd8e'), ObjectId('648f7dd9adadd388c4468426'), ObjectId('648f7ddfadadd388c4468445'), ObjectId('648f7e31adadd388c4468621')], 'forms': [{'token': 'печальная', 'tags': 'ПРИЛ,кач жр,ед,им'}, {'token': 'печальную', 'tags': 'ПРИЛ,кач жр,ед,вн'}, {'token': 'печальный', 'tags': 'ПРИЛ,кач мр,ед,им'}]}\n",
      "{'_id': ObjectId('648cfa9561b224ea1ad2d720'), 'iniForm': 'железный', 'POS': 'ADJF', 'freq': 8, 'docs': [ObjectId('648cfa9561b224ea1ad2d71a'), ObjectId('648cfa9861b224ea1ad2d7cf'), ObjectId('648cfaac61b224ea1ad2dc08'), ObjectId('648f7de1adadd388c4468456'), ObjectId('648f7de6adadd388c446848a'), ObjectId('648f7e1eadadd388c446859e')], 'forms': [{'token': 'железная', 'tags': 'ПРИЛ,кач жр,ед,им'}, {'token': 'железную', 'tags': 'ПРИЛ,кач жр,ед,вн'}, {'token': 'железной', 'tags': 'ПРИЛ,кач жр,ед,рд'}, {'token': 'железные', 'tags': 'ПРИЛ,кач неод,мн,вн'}]}\n",
      "{'_id': ObjectId('648cfa9661b224ea1ad2d776'), 'iniForm': 'зелёный', 'POS': 'ADJF', 'freq': 6, 'docs': [ObjectId('648cfa9661b224ea1ad2d76e'), ObjectId('648cfaa261b224ea1ad2d8fc'), ObjectId('648cfab861b224ea1ad2df38'), ObjectId('648f7de4adadd388c446846e'), ObjectId('648f7df9adadd388c44684b9'), ObjectId('648f7e4fadadd388c4468689')], 'forms': [{'token': 'Зелёную', 'tags': 'ПРИЛ,кач жр,ед,вн'}, {'token': 'зелёный', 'tags': 'ПРИЛ,кач мр,ед,им'}, {'token': 'Зелёным', 'tags': 'ПРИЛ,кач мн,дт'}]}\n",
      "{'_id': ObjectId('648cfa9761b224ea1ad2d788'), 'iniForm': 'красивый', 'POS': 'ADJF', 'freq': 12, 'docs': [ObjectId('648cfa9761b224ea1ad2d782'), ObjectId('648cfa9861b224ea1ad2d7cf'), ObjectId('648f7de4adadd388c4468473'), ObjectId('648f7de6adadd388c446848a')], 'forms': [{'token': 'Красивый', 'tags': 'ПРИЛ,кач мр,ед,им'}, {'token': 'красивую', 'tags': 'ПРИЛ,кач жр,ед,вн'}, {'token': 'красивая', 'tags': 'ПРИЛ,кач жр,ед,им'}]}\n",
      "{'_id': ObjectId('648cfa9a61b224ea1ad2d816'), 'iniForm': 'начальный', 'POS': 'ADJF', 'freq': 2, 'docs': [ObjectId('648cfa9861b224ea1ad2d7cf'), ObjectId('648f7de6adadd388c446848a')], 'forms': [{'token': 'начальную', 'tags': 'ПРИЛ,кач жр,ед,вн'}]}\n",
      "{'_id': ObjectId('648cfa9b61b224ea1ad2d836'), 'iniForm': 'голоустный', 'POS': 'ADJF', 'freq': 18, 'docs': [ObjectId('648cfa9861b224ea1ad2d7cf'), ObjectId('648f7de6adadd388c446848a')], 'forms': [{'token': 'Голоустное', 'tags': 'ПРИЛ,кач ср,ед,им'}, {'token': 'Голоустной', 'tags': 'ПРИЛ,кач жр,ед,рд'}, {'token': 'Голоустная', 'tags': 'ПРИЛ,кач жр,ед,им'}, {'token': 'Голоустную', 'tags': 'ПРИЛ,кач жр,ед,вн'}]}\n",
      "{'_id': ObjectId('648cfa9e61b224ea1ad2d86c'), 'iniForm': 'малый', 'POS': 'ADJF', 'freq': 2, 'docs': [ObjectId('648cfa9861b224ea1ad2d7cf'), ObjectId('648f7de6adadd388c446848a')], 'forms': [{'token': 'Малую', 'tags': 'ПРИЛ,кач жр,ед,вн'}]}\n",
      "{'_id': ObjectId('648cfaa561b224ea1ad2d9c1'), 'iniForm': 'дивный', 'POS': 'ADJF', 'freq': 2, 'docs': [ObjectId('648cfaa561b224ea1ad2d9b4'), ObjectId('648f7e00adadd388c44684f8')], 'forms': [{'token': 'дивную', 'tags': 'ПРИЛ,кач жр,ед,вн'}]}\n",
      "{'_id': ObjectId('648cfaab61b224ea1ad2db4f'), 'iniForm': 'мокрый', 'POS': 'ADJF', 'freq': 2, 'docs': [ObjectId('648cfaaa61b224ea1ad2db41'), ObjectId('648f7e13adadd388c446857b')], 'forms': [{'token': 'мокрую', 'tags': 'ПРИЛ,кач жр,ед,вн'}]}\n",
      "{'_id': ObjectId('648cfaab61b224ea1ad2dba3'), 'iniForm': 'живой', 'POS': 'ADJF', 'freq': 2, 'docs': [ObjectId('648cfaab61b224ea1ad2dba1'), ObjectId('648f7e18adadd388c446859c')], 'forms': [{'token': 'живую', 'tags': 'ПРИЛ,кач жр,ед,вн'}]}\n",
      "{'_id': ObjectId('648cfaac61b224ea1ad2dbd5'), 'iniForm': 'бездонный', 'POS': 'ADJF', 'freq': 2, 'docs': [ObjectId('648cfaab61b224ea1ad2dba1'), ObjectId('648f7e18adadd388c446859c')], 'forms': [{'token': 'Бездонную', 'tags': 'ПРИЛ,кач жр,ед,вн'}]}\n",
      "{'_id': ObjectId('648cfab061b224ea1ad2dd1d'), 'iniForm': 'роскошный', 'POS': 'ADJF', 'freq': 2, 'docs': [ObjectId('648cfaaf61b224ea1ad2dcf7'), ObjectId('648f7e2aadadd388c44685f3')], 'forms': [{'token': 'роскошную', 'tags': 'ПРИЛ,кач жр,ед,вн'}]}\n",
      "{'_id': ObjectId('648cfab061b224ea1ad2dd31'), 'iniForm': 'разгульный', 'POS': 'ADJF', 'freq': 2, 'docs': [ObjectId('648cfaaf61b224ea1ad2dcf7'), ObjectId('648f7e2aadadd388c44685f3')], 'forms': [{'token': 'разгульную', 'tags': 'ПРИЛ,кач жр,ед,вн'}]}\n",
      "{'_id': ObjectId('648cfab561b224ea1ad2de5e'), 'iniForm': 'гнилой', 'POS': 'ADJF', 'freq': 4, 'docs': [ObjectId('648cfab261b224ea1ad2dde1'), ObjectId('648f7e35adadd388c4468649')], 'forms': [{'token': 'гнилую', 'tags': 'ПРИЛ,кач жр,ед,вн'}, {'token': 'гнилой', 'tags': 'ПРИЛ,кач мр,ед,им'}]}\n",
      "{'_id': ObjectId('648cfab861b224ea1ad2df2c'), 'iniForm': 'быстрый', 'POS': 'ADJF', 'freq': 2, 'docs': [ObjectId('648cfab861b224ea1ad2df28'), ObjectId('648f7e4eadadd388c4468680')], 'forms': [{'token': 'быструю', 'tags': 'ПРИЛ,кач жр,ед,вн'}]}\n"
     ]
    }
   ],
   "source": [
    "for x in lemmas.find({'forms.tags': 'ПРИЛ,кач жр,ед,вн'}):\n",
    "    print(x)"
   ]
  },
  {
   "cell_type": "code",
   "execution_count": 170,
   "id": "119cb9d9",
   "metadata": {},
   "outputs": [
    {
     "name": "stdout",
     "output_type": "stream",
     "text": [
      "Без меня меня женили,\n",
      "Я на мельнице был,\n",
      "-----------\n"
     ]
    }
   ],
   "source": [
    "# вывести все примеры сюжета b4\n",
    "\n",
    "for x in plots.find({'label': 'b4'}):\n",
    "    print(text_collection.find({\"_id\": x['id_doc']})[0]['doc_text'][x['begin']:x['end']])\n",
    "    print('-----------')"
   ]
  },
  {
   "cell_type": "code",
   "execution_count": 163,
   "id": "1c2fae4b",
   "metadata": {},
   "outputs": [
    {
     "name": "stdout",
     "output_type": "stream",
     "text": [
      "648f7dfeadadd388c44684e1\n",
      "-----\n",
      "648cfab161b224ea1ad2dd8e\n",
      "-----\n",
      "648f7df6adadd388c446848b\n",
      "-----\n",
      "648cfaa461b224ea1ad2d972\n",
      "-----\n",
      "648cfaa061b224ea1ad2d8a0\n",
      "-----\n",
      "648f7e31adadd388c4468621\n",
      "-----\n",
      "648f7e48adadd388c446865e\n",
      "-----\n",
      "648cfab661b224ea1ad2deb4\n",
      "-----\n"
     ]
    }
   ],
   "source": [
    "res = []\n",
    "response_heroes = ['wm']\n",
    "list_of_tags = []\n",
    "if response_heroes:\n",
    "    list_of_tags = [{'$match' : {'hero_type': i}} for i in response_heroes]\n",
    "\n",
    "\n",
    "\n",
    "for y in plots.aggregate([{'$match' : {'hero_type': {'$in': ['vz', 'pa']}}}, {'$group': {'_id': '$id_doc'}}]):\n",
    "    print(text_collection.find({'_id': y['_id']})[0]['_id'])\n",
    "    print('-----')"
   ]
  },
  {
   "cell_type": "code",
   "execution_count": 381,
   "id": "f1db25ac",
   "metadata": {},
   "outputs": [
    {
     "name": "stdout",
     "output_type": "stream",
     "text": [
      "Мы с милёночком стояли,\n",
      "Вечерком под уголком.\n",
      "Продымилась моя кофточка\n",
      "Зелёным табаком.\n",
      "-----\n",
      "Я иду, а мне навстречу\n",
      "Идёт милка парою.\n",
      "Видно он провожает\n",
      "Ухажёрку старую. \n",
      "-----\n",
      "Наши горы, горы, горы,\n",
      "Горы с перекатами.\n",
      "Хороши наши ребята\n",
      "Как не наши женихи.\n",
      "-----\n",
      "Через речку быструю\n",
      "Я мосточек выстрою:\n",
      "Ходи милый, ходи мой,\n",
      "Ходи летом и зимой!\n",
      "-----\n"
     ]
    }
   ],
   "source": [
    "# вывести тексты в которых есть герои типа wm \n",
    "\n",
    "for y in plots.aggregate([{'$match' : {'hero_type': 'wm'}}, {'$group': {'_id': '$id_doc'}}]):\n",
    "    print(text_collection.find({'_id': y['_id']})[0]['doc_text'])\n",
    "    print('-----')"
   ]
  },
  {
   "cell_type": "code",
   "execution_count": 382,
   "id": "988b175e",
   "metadata": {},
   "outputs": [
    {
     "name": "stdout",
     "output_type": "stream",
     "text": [
      "{'_id': ObjectId('648ababf9fa8ca9c849f1d73'), 'count_pers': '2'}\n",
      "{'_id': ObjectId('648ababf9fa8ca9c849f1d71'), 'count_pers': '1'}\n",
      "{'_id': ObjectId('648abac09fa8ca9c849f1dbb'), 'count_pers': '1'}\n",
      "{'_id': ObjectId('648abac09fa8ca9c849f1dd8'), 'count_pers': '1'}\n",
      "{'_id': ObjectId('648ababf9fa8ca9c849f1d72'), 'count_pers': '1'}\n",
      "{'_id': ObjectId('648abac09fa8ca9c849f1db8'), 'count_pers': '0'}\n",
      "{'_id': ObjectId('648abac09fa8ca9c849f1de6'), 'count_pers': '0'}\n",
      "{'_id': ObjectId('648ababf9fa8ca9c849f1d70'), 'count_pers': '0'}\n",
      "{'_id': ObjectId('648abac09fa8ca9c849f1db7'), 'count_pers': '0'}\n",
      "{'_id': ObjectId('648abac09fa8ca9c849f1db9'), 'count_pers': '0'}\n",
      "{'_id': ObjectId('648abac09fa8ca9c849f1dd7'), 'count_pers': '0'}\n",
      "{'_id': ObjectId('648abac09fa8ca9c849f1db6'), 'count_pers': '0'}\n",
      "{'_id': ObjectId('648abac09fa8ca9c849f1df7'), 'count_pers': '0'}\n",
      "{'_id': ObjectId('648abac09fa8ca9c849f1dba'), 'count_pers': '0'}\n",
      "{'_id': ObjectId('648abac09fa8ca9c849f1dd9'), 'count_pers': None}\n",
      "{'_id': ObjectId('648ababf9fa8ca9c849f1d75'), 'count_pers': None}\n",
      "{'_id': ObjectId('648abac09fa8ca9c849f1dbe'), 'count_pers': None}\n",
      "{'_id': ObjectId('648abac09fa8ca9c849f1de7'), 'count_pers': None}\n",
      "{'_id': ObjectId('648abac09fa8ca9c849f1df8'), 'count_pers': None}\n",
      "{'_id': ObjectId('648abac09fa8ca9c849f1dbd'), 'count_pers': None}\n",
      "{'_id': ObjectId('648abac09fa8ca9c849f1dbc'), 'count_pers': None}\n",
      "{'_id': ObjectId('648ababf9fa8ca9c849f1d74'), 'count_pers': None}\n",
      "{'_id': ObjectId('648abac09fa8ca9c849f1dee'), 'count_pers': None}\n"
     ]
    }
   ],
   "source": [
    "# вывести сколько всего персонажей есть в документе и  отсортировать\n",
    "for x in plots.aggregate([{'$group' : {'_id': '$_id', 'count_pers': {'$max': '$hero_ind'}}}, {'$sort':{'count_pers':-1}}]):\n",
    "    print(x)"
   ]
  },
  {
   "cell_type": "code",
   "execution_count": null,
   "id": "90ee6d21",
   "metadata": {},
   "outputs": [],
   "source": []
  },
  {
   "cell_type": "code",
   "execution_count": 44,
   "id": "ec23c38e",
   "metadata": {},
   "outputs": [
    {
     "name": "stdout",
     "output_type": "stream",
     "text": [
      "{'_id': ObjectId('648ffed1397b9020042f9712'), 'forms': [{'token': 'Двадцать', 'tags': 'NUMR nomn'}]}\n",
      "-----\n"
     ]
    }
   ],
   "source": [
    "# вывести все токены в единственном числе (поиск по грам. признакам)\n",
    "\n",
    "for x in lemmas.find({'forms.tags':{'$regex':'nom'}}, {'forms.token', 'forms.tags'}):\n",
    "    print(x)\n",
    "    print('-----')\n",
    "    break"
   ]
  },
  {
   "cell_type": "code",
   "execution_count": 45,
   "id": "67abfdcc",
   "metadata": {},
   "outputs": [
    {
     "name": "stdout",
     "output_type": "stream",
     "text": [
      "{'_id': ObjectId('648ffed1397b9020042f9717'), 'forms': [{'token': 'года', 'tags': 'NOUN,inan,masc sing,gent'}, {'token': 'году', 'tags': 'NOUN,inan,masc sing,loc2'}, {'token': 'год', 'tags': 'NOUN,inan,masc sing,accs'}]}\n",
      "-----\n"
     ]
    }
   ],
   "source": [
    "for x in lemmas.find({'forms.tags':{'$regex':'acc'}}, {'forms.token', 'forms.tags'}):\n",
    "    print(x)\n",
    "    print('-----')\n",
    "    break"
   ]
  },
  {
   "cell_type": "code",
   "execution_count": 384,
   "id": "bdefe7b8",
   "metadata": {},
   "outputs": [],
   "source": [
    "# lemmas.find()[0]"
   ]
  },
  {
   "cell_type": "code",
   "execution_count": 385,
   "id": "5bd7a7c5",
   "metadata": {},
   "outputs": [],
   "source": [
    "def find_NER(text):\n",
    "    markup = ner(text)\n",
    "    return markup"
   ]
  },
  {
   "cell_type": "code",
   "execution_count": 386,
   "id": "9857ad50",
   "metadata": {
    "scrolled": true
   },
   "outputs": [
    {
     "name": "stdout",
     "output_type": "stream",
     "text": [
      "{'_id': ObjectId('648ababf9fa8ca9c849f1d91'), 'doc_text': 'Там под старым дубом\\nПартизан лежит.\\nЗолотые кудри\\nВетер шевелит.\\n\\nОн лежит не дышит,\\nА как – будто спит.\\nПеред ним старушка\\nМать его стоит.\\n\\nСлёзы проливает,\\nТихо говорит:\\n«Я тебя растила, нежно берегла,\\nА теперь могила будет здесь твоя.»', 'genre': 'Лирическая песня\\nПартизанская песня\\n«Печальная»', 'info': 'Матвеев Анатолий Николаевич\\nНациональность: русский\\nГод рождения: 1932г.\\nМесто рождения: деревня Алексино Псковской обл.\\nОбразование: средне-специальное\\nПрофессия: механик', 'comment': nan, 'collector': 'студентами 1 курса 3 группы филологического ф – та ИГУ Съяновой А., Тирских Н. 13 июля 1981г. Место записи: с. Бальзино Дульдургинского р – на Читинской обл.', 'typewriter': 'студентка 1 курса группы 211121 – ЗБ  филологического ф-та ИГУ Иванова Ульяна 2019 г. Место: птг. Тыреть, мкр Солерудник.', 'coord': {'type': 'Point', 'coordinates': [56.2340082, 38.4989335]}}\n"
     ]
    }
   ],
   "source": [
    "# проставляю географию\n",
    "# ищу локации, создаю отдельное полее с координатами\n",
    "\n",
    "for x in text_collection.find({'info' : {'$ne':''}}, {'info'}).limit(100):\n",
    "    for span in find_NER(str(x['info'])).spans:\n",
    "        if span.type == 'LOC':\n",
    "            location = geolocator.geocode(x['info'][span.start:span.stop])\n",
    "            if location != None:\n",
    "                if text_collection.count_documents({'_id': x['_id'], 'coord':{'$exists':True}}) == 0:\n",
    "                    text_collection.update_one({'_id': x['_id']}, \n",
    "                                                         {'$set':{'coord':{'type': 'Point', 'coordinates': [round(location.latitude, 8), round(location.longitude, 8)]}}})\n",
    "\n",
    "                    print(text_collection.find({'_id': x['_id']})[0])    "
   ]
  },
  {
   "cell_type": "code",
   "execution_count": 387,
   "id": "76573bb1",
   "metadata": {},
   "outputs": [
    {
     "data": {
      "text/plain": [
       "'coord_2dsphere'"
      ]
     },
     "execution_count": 387,
     "metadata": {},
     "output_type": "execute_result"
    }
   ],
   "source": [
    "text_collection.create_index([(\"coord\", pymongo.GEOSPHERE)], unique=False)"
   ]
  },
  {
   "cell_type": "code",
   "execution_count": 388,
   "id": "dc48cb05",
   "metadata": {},
   "outputs": [
    {
     "name": "stdout",
     "output_type": "stream",
     "text": [
      "{'_id': ObjectId('648ababf9fa8ca9c849f1d91'), 'doc_text': 'Там под старым дубом\\nПартизан лежит.\\nЗолотые кудри\\nВетер шевелит.\\n\\nОн лежит не дышит,\\nА как – будто спит.\\nПеред ним старушка\\nМать его стоит.\\n\\nСлёзы проливает,\\nТихо говорит:\\n«Я тебя растила, нежно берегла,\\nА теперь могила будет здесь твоя.»', 'genre': 'Лирическая песня\\nПартизанская песня\\n«Печальная»', 'info': 'Матвеев Анатолий Николаевич\\nНациональность: русский\\nГод рождения: 1932г.\\nМесто рождения: деревня Алексино Псковской обл.\\nОбразование: средне-специальное\\nПрофессия: механик', 'comment': nan, 'collector': 'студентами 1 курса 3 группы филологического ф – та ИГУ Съяновой А., Тирских Н. 13 июля 1981г. Место записи: с. Бальзино Дульдургинского р – на Читинской обл.', 'typewriter': 'студентка 1 курса группы 211121 – ЗБ  филологического ф-та ИГУ Иванова Ульяна 2019 г. Место: птг. Тыреть, мкр Солерудник.', 'coord': {'type': 'Point', 'coordinates': [56.2340082, 38.4989335]}}\n",
      "--------\n"
     ]
    },
    {
     "data": {
      "text/plain": [
       "1"
      ]
     },
     "execution_count": 388,
     "metadata": {},
     "output_type": "execute_result"
    }
   ],
   "source": [
    "for x in text_collection.find({'coord':{'$exists':True}}):\n",
    "    print(x)\n",
    "    print('--------')\n",
    "text_collection.count_documents({'coord':{'$exists':True}})"
   ]
  },
  {
   "cell_type": "code",
   "execution_count": 389,
   "id": "3c1c3820",
   "metadata": {},
   "outputs": [
    {
     "name": "stdout",
     "output_type": "stream",
     "text": [
      "{'_id': ObjectId('648ababf9fa8ca9c849f1d91'), 'doc_text': 'Там под старым дубом\\nПартизан лежит.\\nЗолотые кудри\\nВетер шевелит.\\n\\nОн лежит не дышит,\\nА как – будто спит.\\nПеред ним старушка\\nМать его стоит.\\n\\nСлёзы проливает,\\nТихо говорит:\\n«Я тебя растила, нежно берегла,\\nА теперь могила будет здесь твоя.»', 'genre': 'Лирическая песня\\nПартизанская песня\\n«Печальная»', 'info': 'Матвеев Анатолий Николаевич\\nНациональность: русский\\nГод рождения: 1932г.\\nМесто рождения: деревня Алексино Псковской обл.\\nОбразование: средне-специальное\\nПрофессия: механик', 'comment': nan, 'collector': 'студентами 1 курса 3 группы филологического ф – та ИГУ Съяновой А., Тирских Н. 13 июля 1981г. Место записи: с. Бальзино Дульдургинского р – на Читинской обл.', 'typewriter': 'студентка 1 курса группы 211121 – ЗБ  филологического ф-та ИГУ Иванова Ульяна 2019 г. Место: птг. Тыреть, мкр Солерудник.', 'coord': {'type': 'Point', 'coordinates': [56.2340082, 38.4989335]}}\n"
     ]
    }
   ],
   "source": [
    "request=text_collection.find(\n",
    "{\n",
    "   \"coord\": {\n",
    "     \"$near\": {\n",
    "          \"coordinates\": [56.2340082, 38.4989335]\n",
    "       },\n",
    "       \"$maxDistance\": 11,\n",
    "       \"$minDistance\":0,\n",
    "     }\n",
    "   }, {}\n",
    ")\n",
    "#req\n",
    "for x in request:    \n",
    "    print(x)"
   ]
  },
  {
   "cell_type": "code",
   "execution_count": 390,
   "id": "826df0b1",
   "metadata": {},
   "outputs": [
    {
     "data": {
      "text/plain": [
       "Location(33А, Заречная улица, Алексино, Каринское сельское поселение, Александровский район, Владимирская область, Центральный федеральный округ, Россия, (56.2336904, 38.499001925, 0.0))"
      ]
     },
     "execution_count": 390,
     "metadata": {},
     "output_type": "execute_result"
    }
   ],
   "source": [
    "geolocator.reverse([56.2340082, 38.4989335])"
   ]
  },
  {
   "cell_type": "code",
   "execution_count": 391,
   "id": "73d25968",
   "metadata": {},
   "outputs": [
    {
     "name": "stdout",
     "output_type": "stream",
     "text": [
      "{'_id': ObjectId('648ababf9fa8ca9c849f1d91'), 'doc_text': 'Там под старым дубом\\nПартизан лежит.\\nЗолотые кудри\\nВетер шевелит.\\n\\nОн лежит не дышит,\\nА как – будто спит.\\nПеред ним старушка\\nМать его стоит.\\n\\nСлёзы проливает,\\nТихо говорит:\\n«Я тебя растила, нежно берегла,\\nА теперь могила будет здесь твоя.»', 'genre': 'Лирическая песня\\nПартизанская песня\\n«Печальная»', 'info': 'Матвеев Анатолий Николаевич\\nНациональность: русский\\nГод рождения: 1932г.\\nМесто рождения: деревня Алексино Псковской обл.\\nОбразование: средне-специальное\\nПрофессия: механик', 'comment': nan, 'collector': 'студентами 1 курса 3 группы филологического ф – та ИГУ Съяновой А., Тирских Н. 13 июля 1981г. Место записи: с. Бальзино Дульдургинского р – на Читинской обл.', 'typewriter': 'студентка 1 курса группы 211121 – ЗБ  филологического ф-та ИГУ Иванова Ульяна 2019 г. Место: птг. Тыреть, мкр Солерудник.', 'coord': {'type': 'Point', 'coordinates': [56.2340082, 38.4989335]}}\n"
     ]
    }
   ],
   "source": [
    "request=text_collection.find(\n",
    "{\n",
    "   \"coord\": {\n",
    "     \"$near\": {\n",
    "          \"coordinates\": [geolocator.geocode('Центральный федеральный округ').latitude,\n",
    "                          geolocator.geocode('Центральный федеральный округ').longitude]\n",
    "       },\n",
    "       \"$maxDistance\": 1000000,\n",
    "       \"$minDistance\":0,\n",
    "     }\n",
    "   }, {}\n",
    ")\n",
    "#req\n",
    "for x in request:    \n",
    "    print(x)"
   ]
  },
  {
   "cell_type": "code",
   "execution_count": 392,
   "id": "01278602",
   "metadata": {},
   "outputs": [
    {
     "name": "stdout",
     "output_type": "stream",
     "text": [
      "{'_id': ObjectId('648ababf9fa8ca9c849f1d91'), 'doc_text': 'Там под старым дубом\\nПартизан лежит.\\nЗолотые кудри\\nВетер шевелит.\\n\\nОн лежит не дышит,\\nА как – будто спит.\\nПеред ним старушка\\nМать его стоит.\\n\\nСлёзы проливает,\\nТихо говорит:\\n«Я тебя растила, нежно берегла,\\nА теперь могила будет здесь твоя.»', 'genre': 'Лирическая песня\\nПартизанская песня\\n«Печальная»', 'info': 'Матвеев Анатолий Николаевич\\nНациональность: русский\\nГод рождения: 1932г.\\nМесто рождения: деревня Алексино Псковской обл.\\nОбразование: средне-специальное\\nПрофессия: механик', 'comment': nan, 'collector': 'студентами 1 курса 3 группы филологического ф – та ИГУ Съяновой А., Тирских Н. 13 июля 1981г. Место записи: с. Бальзино Дульдургинского р – на Читинской обл.', 'typewriter': 'студентка 1 курса группы 211121 – ЗБ  филологического ф-та ИГУ Иванова Ульяна 2019 г. Место: птг. Тыреть, мкр Солерудник.', 'coord': {'type': 'Point', 'coordinates': [56.2340082, 38.4989335]}}\n"
     ]
    }
   ],
   "source": [
    "# проверяем относится ли к центральному федеральному округу установленная точка \n",
    "# (правильный ответ да)\n",
    "\n",
    "for d in text_collection.find({'coord':{'$geoWithin':{\"$box\": \n",
    "[[50.72646354315088,31.345877414798924],[57.77272308914989,42.36177531910842]]\n",
    "}}}):\n",
    "    print(d)"
   ]
  },
  {
   "cell_type": "code",
   "execution_count": null,
   "id": "0922e489",
   "metadata": {},
   "outputs": [],
   "source": []
  }
 ],
 "metadata": {
  "kernelspec": {
   "display_name": "Python 3 (ipykernel)",
   "language": "python",
   "name": "python3"
  },
  "language_info": {
   "codemirror_mode": {
    "name": "ipython",
    "version": 3
   },
   "file_extension": ".py",
   "mimetype": "text/x-python",
   "name": "python",
   "nbconvert_exporter": "python",
   "pygments_lexer": "ipython3",
   "version": "3.11.4"
  }
 },
 "nbformat": 4,
 "nbformat_minor": 5
}
